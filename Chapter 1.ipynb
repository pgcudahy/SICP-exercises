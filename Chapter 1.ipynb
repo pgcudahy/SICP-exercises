{
 "cells": [
  {
   "cell_type": "markdown",
   "metadata": {},
   "source": [
    "# SICP Chapter 1 exercises"
   ]
  },
  {
   "cell_type": "markdown",
   "metadata": {},
   "source": [
    "### \"Exercise 1.2: Translate the following expression into prefix form:\n",
    "5 + 4 + (2 − (3 − (6 + 4/5))) / 3(6 − 2)(2 − 7)” "
   ]
  },
  {
   "cell_type": "code",
   "execution_count": 1,
   "metadata": {},
   "outputs": [
    {
     "data": {
      "text/plain": [
       "-0.24666666666666667"
      ]
     },
     "execution_count": 1,
     "metadata": {},
     "output_type": "execute_result"
    }
   ],
   "source": [
    "(/ (float(+ 5(+ 4(+ (- 2 (- 3 (+ 6 (/ 4 5)))))))) (float(* 3 (- 6 2) (- 2 7))))"
   ]
  },
  {
   "cell_type": "markdown",
   "metadata": {},
   "source": [
    "### “Exercise 1.3: Define a procedure that takes three numbers as arguments and returns the sum of the squares of the two larger numbers.”"
   ]
  },
  {
   "cell_type": "code",
   "execution_count": 2,
   "metadata": {},
   "outputs": [],
   "source": [
    "(define (sum-larger-squares x y z) \n",
    "  (cond ((and (> x z) (> y z)) (+(* x x)(* y y)))\n",
    "  ((and (> x y) (> z y)) (+(* x x)(* z z)))\n",
    "  (else (+(* y y) (* z z)))))"
   ]
  },
  {
   "cell_type": "code",
   "execution_count": 3,
   "metadata": {},
   "outputs": [
    {
     "data": {
      "text/plain": [
       "13"
      ]
     },
     "execution_count": 3,
     "metadata": {},
     "output_type": "execute_result"
    }
   ],
   "source": [
    "(sum-larger-squares 1 2 3)"
   ]
  },
  {
   "cell_type": "code",
   "execution_count": 4,
   "metadata": {},
   "outputs": [
    {
     "data": {
      "text/plain": [
       "25"
      ]
     },
     "execution_count": 4,
     "metadata": {},
     "output_type": "execute_result"
    }
   ],
   "source": [
    "(sum-larger-squares 4 3 2)"
   ]
  },
  {
   "cell_type": "code",
   "execution_count": 5,
   "metadata": {},
   "outputs": [
    {
     "data": {
      "text/plain": [
       "34"
      ]
     },
     "execution_count": 5,
     "metadata": {},
     "output_type": "execute_result"
    }
   ],
   "source": [
    "(sum-larger-squares 5 2 3)"
   ]
  },
  {
   "cell_type": "code",
   "execution_count": 6,
   "metadata": {},
   "outputs": [
    {
     "data": {
      "text/plain": [
       "2"
      ]
     },
     "execution_count": 6,
     "metadata": {},
     "output_type": "execute_result"
    }
   ],
   "source": [
    "(sum-larger-squares 1 1 1)"
   ]
  },
  {
   "cell_type": "markdown",
   "metadata": {},
   "source": [
    "### “Exercise 1.4: Observe that our model of evaluation allows for combinations whose operators are compound expressions. Use this observation to describe the behavior of the following procedure:\n",
    "\n",
    "(define (a-plus-abs-b a b)\n",
    "  ((if (> b 0) + -) a b))”\n"
   ]
  },
  {
   "cell_type": "code",
   "execution_count": 7,
   "metadata": {},
   "outputs": [],
   "source": [
    "(define (a-plus-abs-b a b) ((if (> b 0) + -) a b))"
   ]
  },
  {
   "cell_type": "markdown",
   "metadata": {},
   "source": [
    "#### Addition is used if b > 0, and subtraction if b <= 0. Equivalent to adding the absolute value of b to a."
   ]
  },
  {
   "cell_type": "markdown",
   "metadata": {},
   "source": [
    "### \"Exercise 1.5: Ben Bitdiddle has invented a test to determine whether the interpreter he is faced with is using applicative-order evaluation or normal-order evaluation. He defines the following two procedures:\n",
    "\n",
    "(define (p) (p))\n",
    "\n",
    "(define (test x y) \n",
    "  (if (= x 0) \n",
    "      0 \n",
    "      y))\n",
    "\n",
    "Then he evaluates the expression\n",
    "\n",
    "(test 0 (p))\n",
    "\n",
    "What behavior will Ben observe with an interpreter that uses applicative-order evaluation? What behavior will he observe with an interpreter that uses normal-order evaluation? Explain your answer. (Assume that the evaluation rule for the special form `if` is the same whether the interpreter is using normal or applicative order: The predicate expression is evaluated first, and the result determines whether to evaluate the consequent or the alternative expression.)”"
   ]
  },
  {
   "cell_type": "markdown",
   "metadata": {},
   "source": [
    "#### Applicative-order: y is evaluated before the if clause is executed. This gets caught in a recursive loop since `p` defines itself.\n",
    "\n",
    "Normal-order: `p` is never evaluated and 0 is returned"
   ]
  },
  {
   "cell_type": "markdown",
   "metadata": {},
   "source": [
    "### \"Exercise 1.6: Alyssa P. Hacker doesn’t see why if needs to be provided as a special form. “Why can’t I just define it as an ordinary procedure in terms of cond?” she asks. Alyssa’s friend Eva Lu Ator claims this can indeed be done, and she defines a new version of if:\n",
    "\n",
    "`(define (new-if predicate \n",
    "                then-clause \n",
    "                else-clause)\n",
    "  (cond (predicate then-clause)\n",
    "        (else else-clause)))`\n",
    "\n",
    "Eva demonstrates the program for Alyssa:\n",
    "\n",
    "`(new-if (= 2 3) 0 5)`\n",
    "\n",
    "5\n",
    "\n",
    "`(new-if (= 1 1) 0 5)`\n",
    "\n",
    "0\n",
    "\n",
    "Delighted, Alyssa uses new-if to rewrite the square-root program:\n",
    "\n",
    "`(define (sqrt-iter guess x)\n",
    "  (new-if (good-enough? guess x)\n",
    "          guess\n",
    "          (sqrt-iter (improve guess x) x)))`\n",
    "\n",
    "What happens when Alyssa attempts to use this to compute square roots? Explain.”"
   ]
  },
  {
   "cell_type": "markdown",
   "metadata": {},
   "source": [
    "#### With applicative ordering, the else clause gets evaluated before the conditional is applied. This leads to a recursive loop."
   ]
  },
  {
   "cell_type": "markdown",
   "metadata": {},
   "source": [
    "### “Exercise 1.7: The good-enough? test used in computing square roots will not be very effective for finding the square roots of very small numbers. Also, in real computers, arithmetic operations are almost always performed with limited precision. This makes our test inadequate for very large numbers. \n",
    "Explain these statements, with examples showing how the test fails for small and large numbers."
   ]
  },
  {
   "cell_type": "code",
   "execution_count": 8,
   "metadata": {},
   "outputs": [],
   "source": [
    "(define (square x)\n",
    "  (* x x))\n",
    "\n",
    "(define (good-enough? guess x)\n",
    "  (< (abs (- (square guess) x)) 0.001))\n",
    "\n",
    "(define (average x y) \n",
    "  (/ (+ x y) 2))\n",
    "\n",
    "(define (improve guess x)\n",
    "  (average guess (/ x guess)))\n",
    "\n",
    "(define (sqrt-iter guess x)\n",
    "  (display guess)(newline)\n",
    "  (if (good-enough? guess x)\n",
    "      guess\n",
    "      (sqrt-iter (improve guess x) x)))"
   ]
  },
  {
   "cell_type": "code",
   "execution_count": 9,
   "metadata": {},
   "outputs": [
    {
     "name": "stdout",
     "output_type": "stream",
     "text": [
      "1.0\n",
      "0.5005\n",
      "0.251249000999001\n",
      "0.12761455816345907\n",
      "0.06772532736082602\n",
      "0.04124542607499115\n"
     ]
    },
    {
     "data": {
      "text/plain": [
       "0.04124542607499115"
      ]
     },
     "execution_count": 9,
     "metadata": {},
     "output_type": "execute_result"
    }
   ],
   "source": [
    "(sqrt-iter 1.0 .001)"
   ]
  },
  {
   "cell_type": "code",
   "execution_count": 10,
   "metadata": {},
   "outputs": [
    {
     "name": "stdout",
     "output_type": "stream",
     "text": [
      "1.0\n",
      "0.50005\n",
      "0.2501249900009999\n",
      "0.12526239505846617\n",
      "0.06303035962394365\n",
      "0.03230844833048122\n"
     ]
    },
    {
     "data": {
      "text/plain": [
       "0.03230844833048122"
      ]
     },
     "execution_count": 10,
     "metadata": {},
     "output_type": "execute_result"
    }
   ],
   "source": [
    "(sqrt-iter 1.0 .0001)"
   ]
  },
  {
   "cell_type": "code",
   "execution_count": 11,
   "metadata": {},
   "outputs": [
    {
     "name": "stdout",
     "output_type": "stream",
     "text": [
      "1.0\n",
      "0.500005\n",
      "0.250012499900001\n",
      "0.1250262489500585\n",
      "0.06255311607712873\n",
      "0.03135649010771716\n"
     ]
    },
    {
     "data": {
      "text/plain": [
       "0.03135649010771716"
      ]
     },
     "execution_count": 11,
     "metadata": {},
     "output_type": "execute_result"
    }
   ],
   "source": [
    "(sqrt-iter 1.0 .00001)"
   ]
  },
  {
   "cell_type": "markdown",
   "metadata": {},
   "source": [
    "#### For very small numbers, the guess will be small, so anything less than the square root of the absolute range in the `good-enough` function will not get any closer than that square-root."
   ]
  },
  {
   "cell_type": "code",
   "execution_count": 12,
   "metadata": {},
   "outputs": [
    {
     "name": "stdout",
     "output_type": "stream",
     "text": [
      "1.0\n",
      "50000000000.5\n",
      "25000000001.25\n",
      "12500000002.625\n",
      "6250000005.3125\n",
      "3125000010.65625\n",
      "1562500021.328125\n",
      "781250042.664062\n",
      "390625085.3320275\n",
      "195312670.6659858\n",
      "97656591.3327692\n",
      "48828807.66459504\n",
      "24415427.817981206\n",
      "12209761.794465834\n",
      "6108975.981219131\n",
      "3062672.6683941423\n",
      "1547661.9443466587\n",
      "806137.7690049252\n",
      "465093.0222149514\n",
      "340051.8866168326\n",
      "317062.32795385586\n",
      "316228.86437127064\n",
      "316227.7660187454\n",
      "316227.7660168379\n"
     ]
    },
    {
     "data": {
      "text/plain": [
       "316227.7660168379"
      ]
     },
     "execution_count": 12,
     "metadata": {},
     "output_type": "execute_result"
    }
   ],
   "source": [
    "(sqrt-iter 1.0 100000000000)"
   ]
  },
  {
   "cell_type": "code",
   "execution_count": 13,
   "metadata": {},
   "outputs": [
    {
     "name": "stdout",
     "output_type": "stream",
     "text": [
      "1.0\n",
      "50000000000000.5\n",
      "25000000000001.25\n",
      "12500000000002.625\n",
      "6250000000005.3125\n",
      "3125000000010.6562\n",
      "1562500000021.3281\n",
      "781250000042.6641\n",
      "390625000085.33203\n",
      "195312500170.66602\n",
      "97656250341.33301\n",
      "48828125682.666504\n",
      "24414063865.333237\n",
      "12207033980.666504\n",
      "6103521086.332335\n",
      "3051768735.158838\n",
      "1525900751.5207784\n",
      "762983143.2912723\n",
      "381557103.8928943\n",
      "190909593.93070027\n",
      "95716701.03717038\n",
      "48380725.39630463\n",
      "25223832.113718767\n",
      "14594168.387693997\n",
      "10723110.170233615\n",
      "10024381.373966798\n",
      "10000029.650278373\n",
      "10000000.000043957\n",
      "10000000.0\n"
     ]
    },
    {
     "data": {
      "text/plain": [
       "10000000.0"
      ]
     },
     "execution_count": 13,
     "metadata": {},
     "output_type": "execute_result"
    }
   ],
   "source": [
    "(sqrt-iter 1.0 100000000000000)"
   ]
  },
  {
   "cell_type": "markdown",
   "metadata": {},
   "source": [
    "Next attempt commented out since it gets caught in an infinite loop"
   ]
  },
  {
   "cell_type": "code",
   "execution_count": 14,
   "metadata": {},
   "outputs": [],
   "source": [
    ";(sqrt-iter 1.0 1000000000000000)"
   ]
  },
  {
   "cell_type": "markdown",
   "metadata": {},
   "source": [
    "#### For very big numbers, the significant digits get truncated, so no further convergance can be made"
   ]
  },
  {
   "cell_type": "markdown",
   "metadata": {},
   "source": [
    "### An alternative strategy for implementing good-enough? is to watch how guess changes from one iteration to the next and to stop when the change is a very small fraction of the guess. Design a square-root procedure that uses this kind of end test. Does this work better for small and large numbers?”"
   ]
  },
  {
   "cell_type": "code",
   "execution_count": 15,
   "metadata": {},
   "outputs": [],
   "source": [
    "(define (square x)\n",
    "  (* x x))\n",
    "\n",
    "(define (good-enough?-2 guess old-guess)\n",
    "  (< (abs (- old-guess guess)) (/ guess 1000)))\n",
    "\n",
    "(define (average x y) \n",
    "  (/ (+ x y) 2))\n",
    "\n",
    "(define (improve guess x)\n",
    "  (average guess (/ x guess)))\n",
    "\n",
    "(define (sqrt-iter-2 guess old-guess x)\n",
    "  (display guess)(newline)\n",
    "  (if (good-enough?-2 guess old-guess)\n",
    "      guess\n",
    "      (sqrt-iter-2 (improve guess x) guess x)))"
   ]
  },
  {
   "cell_type": "code",
   "execution_count": 16,
   "metadata": {},
   "outputs": [
    {
     "name": "stdout",
     "output_type": "stream",
     "text": [
      "1.0\n",
      "0.500005\n",
      "0.250012499900001\n",
      "0.1250262489500585\n",
      "0.06255311607712873\n",
      "0.03135649010771716\n",
      "0.015837701676166237\n",
      "0.008234553210954832\n",
      "0.004724474090502864\n",
      "0.0034205558981478842\n",
      "0.003172028655357483\n",
      "0.0031622926477232706\n",
      "0.0031622776602038957\n"
     ]
    },
    {
     "data": {
      "text/plain": [
       "0.0031622776602038957"
      ]
     },
     "execution_count": 16,
     "metadata": {},
     "output_type": "execute_result"
    }
   ],
   "source": [
    "(sqrt-iter-2 1.0 2.0 .00001)"
   ]
  },
  {
   "cell_type": "code",
   "execution_count": 17,
   "metadata": {},
   "outputs": [
    {
     "name": "stdout",
     "output_type": "stream",
     "text": [
      "1.0\n",
      "0.50000005\n",
      "0.25000012499999\n",
      "0.12500026249989502\n",
      "0.06250053124910751\n",
      "0.03125106561775382\n",
      "0.015627132754319144\n",
      "0.0078167659404311\n",
      "0.003914779477464331\n",
      "0.0019701618502362306\n",
      "0.0010104595507340792\n",
      "0.0005547122113177672\n",
      "0.0003674929351352361\n",
      "0.0003198035049133841\n",
      "0.0003162477562740737\n",
      "0.00031622776664863746\n"
     ]
    },
    {
     "data": {
      "text/plain": [
       "0.00031622776664863746"
      ]
     },
     "execution_count": 17,
     "metadata": {},
     "output_type": "execute_result"
    }
   ],
   "source": [
    "(sqrt-iter-2 1.0 2.0 .0000001)"
   ]
  },
  {
   "cell_type": "code",
   "execution_count": 18,
   "metadata": {},
   "outputs": [
    {
     "name": "stdout",
     "output_type": "stream",
     "text": [
      "1.0\n",
      "500000000000000.5\n",
      "250000000000001.25\n",
      "125000000000002.62\n",
      "62500000000005.31\n",
      "31250000000010.656\n",
      "15625000000021.328\n",
      "7812500000042.664\n",
      "3906250000085.332\n",
      "1953125000170.666\n",
      "976562500341.333\n",
      "488281250682.6665\n",
      "244140626365.33325\n",
      "122070315230.66661\n",
      "61035161711.33321\n",
      "30517589047.665874\n",
      "15258810907.827074\n",
      "7629438221.866625\n",
      "3814784646.558015\n",
      "1907523392.2766902\n",
      "954023816.1217878\n",
      "477536003.99178225\n",
      "239815043.46673402\n",
      "121992461.83041875\n",
      "65094844.81723103\n",
      "40228522.216194235\n",
      "32543253.585447475\n",
      "31635794.320938785\n",
      "31622779.27999515\n"
     ]
    },
    {
     "data": {
      "text/plain": [
       "31622779.27999515"
      ]
     },
     "execution_count": 18,
     "metadata": {},
     "output_type": "execute_result"
    }
   ],
   "source": [
    "(sqrt-iter-2 1.0 2.0 1000000000000000)"
   ]
  },
  {
   "cell_type": "code",
   "execution_count": 19,
   "metadata": {},
   "outputs": [
    {
     "name": "stdout",
     "output_type": "stream",
     "text": [
      "1.0\n",
      "5000000000000000.0\n",
      "2500000000000001.0\n",
      "1250000000000002.5\n",
      "625000000000005.2\n",
      "312500000000010.6\n",
      "156250000000021.3\n",
      "78125000000042.66\n",
      "39062500000085.33\n",
      "19531250000170.664\n",
      "9765625000341.332\n",
      "4882812500682.666\n",
      "2441406251365.333\n",
      "1220703127730.6665\n",
      "610351567961.3333\n",
      "305175792172.66656\n",
      "152587912470.3327\n",
      "76293989003.16167\n",
      "38147060037.543304\n",
      "19073661090.471413\n",
      "9537092686.833813\n",
      "4769070612.202393\n",
      "2385583728.4053674\n",
      "1194887787.2845125\n",
      "601628386.9923497\n",
      "309124971.5580212\n",
      "170737173.88265842\n",
      "114653363.573724\n",
      "100936392.34528725\n",
      "100004343.48109704\n",
      "100000000.09432504\n"
     ]
    },
    {
     "data": {
      "text/plain": [
       "100000000.09432504"
      ]
     },
     "execution_count": 19,
     "metadata": {},
     "output_type": "execute_result"
    }
   ],
   "source": [
    "(sqrt-iter-2 1.0 2.0 10000000000000000)"
   ]
  },
  {
   "cell_type": "code",
   "execution_count": 20,
   "metadata": {},
   "outputs": [
    {
     "name": "stdout",
     "output_type": "stream",
     "text": [
      "1.0\n",
      "5e+16\n",
      "2.5e+16\n",
      "1.2500000000000002e+16\n",
      "6250000000000005.0\n",
      "3125000000000010.5\n",
      "1562500000000021.2\n",
      "781250000000042.6\n",
      "390625000000085.3\n",
      "195312500000170.66\n",
      "97656250000341.33\n",
      "48828125000682.664\n",
      "24414062501365.332\n",
      "12207031252730.666\n",
      "6103515630461.333\n",
      "3051757823422.6665\n",
      "1525878928095.3333\n",
      "762939496815.6661\n",
      "381469813943.82935\n",
      "190735038043.88464\n",
      "95367781165.70213\n",
      "47684414868.92954\n",
      "23843255995.092754\n",
      "11923725026.576736\n",
      "5966055833.738861\n",
      "2991408663.110061\n",
      "1512418864.9508176\n",
      "789269057.132779\n",
      "457984281.7945697\n",
      "338166193.34310144\n",
      "316939390.36460567\n",
      "316228564.9222876\n",
      "316227766.01784706\n"
     ]
    },
    {
     "data": {
      "text/plain": [
       "316227766.01784706"
      ]
     },
     "execution_count": 20,
     "metadata": {},
     "output_type": "execute_result"
    }
   ],
   "source": [
    "(sqrt-iter-2 1.0 2.0 100000000000000000)"
   ]
  },
  {
   "cell_type": "markdown",
   "metadata": {},
   "source": [
    "#### Works well for both"
   ]
  },
  {
   "cell_type": "markdown",
   "metadata": {},
   "source": [
    "### “Exercise 1.8: Newton’s method for cube roots is based on the fact that if `y` is an approximation to the cube root of `x`, then a better approximation is given by the value (x / y <sup>2</sup> + 2y) / 3.\n",
    "\n",
    "Use this formula to implement a cube-root procedure analogous to the square-root procedure. (In 1.3.4 we will see how to implement Newton’s method in general as an abstraction of these square-root and cube-root procedures.)”"
   ]
  },
  {
   "cell_type": "code",
   "execution_count": 21,
   "metadata": {},
   "outputs": [],
   "source": [
    "(define (cube x)\n",
    "  (* x x x))\n",
    "\n",
    "(define (good-enough? guess old-guess)\n",
    "  (< (abs (- old-guess guess)) (/ guess 1000)))\n",
    "\n",
    "(define (improve guess x)\n",
    "  (/ (+ (/ x (* guess guess)) (* 2 guess)) 3))\n",
    "\n",
    "(define (cube-iter guess old-guess x)\n",
    "  (display guess)(newline)\n",
    "  (if (good-enough? guess old-guess)\n",
    "      guess\n",
    "      (cube-iter (improve guess x) guess x)))"
   ]
  },
  {
   "cell_type": "code",
   "execution_count": 22,
   "metadata": {},
   "outputs": [
    {
     "name": "stdout",
     "output_type": "stream",
     "text": [
      "1.0\n",
      "9.666666666666666\n",
      "6.540758356453956\n",
      "4.570876778578707\n",
      "3.4780192333867963\n",
      "3.0626891086275365\n",
      "3.001274406506175\n",
      "3.0000005410641766\n"
     ]
    },
    {
     "data": {
      "text/plain": [
       "3.0000005410641766"
      ]
     },
     "execution_count": 22,
     "metadata": {},
     "output_type": "execute_result"
    }
   ],
   "source": [
    "(cube-iter 1.0 2.0 27)"
   ]
  },
  {
   "cell_type": "code",
   "execution_count": 23,
   "metadata": {},
   "outputs": [
    {
     "name": "stdout",
     "output_type": "stream",
     "text": [
      "1.0\n",
      "334.0\n",
      "222.6696547025709\n",
      "148.4531593687304\n",
      "98.98389806825497\n",
      "66.0232865797661\n",
      "44.09199322025366\n",
      "29.566120750020406\n",
      "20.092067577957813\n",
      "14.220425408243898\n",
      "11.128649301978243\n",
      "10.11059611235988\n",
      "10.00120535933774\n",
      "10.000000145265767\n"
     ]
    },
    {
     "data": {
      "text/plain": [
       "10.000000145265767"
      ]
     },
     "execution_count": 23,
     "metadata": {},
     "output_type": "execute_result"
    }
   ],
   "source": [
    "(cube-iter 1.0 2.0 1000)"
   ]
  },
  {
   "cell_type": "code",
   "execution_count": 24,
   "metadata": {},
   "outputs": [
    {
     "name": "stdout",
     "output_type": "stream",
     "text": [
      "1.0\n",
      "0.6669999999999999\n",
      "0.44541591722879187\n",
      "0.2986240918149584\n",
      "0.20282063977834344\n",
      "0.14331692049280528\n",
      "0.11177331656703803\n",
      "0.10119656693666\n",
      "0.10001409266436927\n",
      "0.10000000198565878\n"
     ]
    },
    {
     "data": {
      "text/plain": [
       "0.10000000198565878"
      ]
     },
     "execution_count": 24,
     "metadata": {},
     "output_type": "execute_result"
    }
   ],
   "source": [
    "(cube-iter 1.0 2.0 .001)"
   ]
  },
  {
   "cell_type": "markdown",
   "metadata": {},
   "source": [
    "### “Exercise 1.9: Each of the following two procedures defines a method for adding two positive integers in terms of the procedures `inc`, which increments its argument by 1, and `dec`, which decrements its argument by 1.”\n",
    "\n",
    "```\n",
    "(define (+ a b)\n",
    "  (if (= a 0) \n",
    "      b \n",
    "      (inc (+ (dec a) b))))\n",
    "\n",
    "(define (+ a b)\n",
    "  (if (= a 0) \n",
    "      b \n",
    "      (+ (dec a) (inc b))))\n",
    "```\n",
    "      \n",
    "      \n",
    "Using the substitution model, illustrate the process generated by each procedure in evaluating (+ 4 5). Are these processes iterative or recursive?”"
   ]
  },
  {
   "cell_type": "markdown",
   "metadata": {},
   "source": [
    "#### Procedure 1\n",
    "```\n",
    "(+ 4 5)\n",
    "(inc (+ 3 5))\n",
    "(inc (inc (+ 2 5)))\n",
    "(inc (inc (inc (+ 1 5))))\n",
    "(inc (inc (inc (inc (+ 0 5)))))\n",
    "(inc (inc (inc (inc (5)))))\n",
    "(inc (inc (inc (6))))\n",
    "(inc (inc (7)))\n",
    "(inc (8))\n",
    "(9)\n",
    "```\n",
    "\n",
    "Recursive"
   ]
  },
  {
   "cell_type": "markdown",
   "metadata": {},
   "source": [
    "#### Procedure 2\n",
    "```\n",
    "(+ 4 5)\n",
    "(+ 3 6)\n",
    "(+ 2 7)\n",
    "(+ 1 8)\n",
    "(+ 0 9)\n",
    "9\n",
    "```\n",
    "Iterative"
   ]
  },
  {
   "cell_type": "markdown",
   "metadata": {},
   "source": [
    "### “Exercise 1.10: The following procedure computes a mathematical function called Ackermann’s function.\n",
    "```\n",
    "(define (A x y)\n",
    "  (cond ((= y 0) 0)\n",
    "        ((= x 0) (* 2 y))\n",
    "        ((= y 1) 2)\n",
    "        (else (A (- x 1)\n",
    "                 (A x (- y 1))))))\n",
    "```\n",
    "\n",
    "What are the values of the following expressions?\n",
    "```\n",
    "(A 1 10)\n",
    "(A 2 4)\n",
    "(A 3 3)\n",
    "```\n"
   ]
  },
  {
   "cell_type": "code",
   "execution_count": 25,
   "metadata": {},
   "outputs": [],
   "source": [
    "(define (A x y)\n",
    "  (cond ((= y 0) 0)\n",
    "        ((= x 0) (* 2 y))\n",
    "        ((= y 1) 2)\n",
    "        (else (A (- x 1)\n",
    "                 (A x (- y 1))))))"
   ]
  },
  {
   "cell_type": "markdown",
   "metadata": {},
   "source": [
    "```\n",
    "(A 1 10)\n",
    "(A 0 (A 1 9))\n",
    "(A 0 (A 0 (A 1 8)))\n",
    "(A 0 (A 0 (A 0 (A 1 7))))\n",
    "(A 0 (A 0 (A 0 (A 0 (A 1 6)))))\n",
    "(A 0 (A 0 (A 0 (A 0 (A 0 (A 1 5))))))\n",
    "(A 0 (A 0 (A 0 (A 0 (A 0 (A 0 (A 1 4))))))\n",
    "(A 0 (A 0 (A 0 (A 0 (A 0 (A 0 (A 0 (A 1 3)))))))\n",
    "(A 0 (A 0 (A 0 (A 0 (A 0 (A 0 (A 0 (A 0 (A 1 2))))))))\n",
    "(A 0 (A 0 (A 0 (A 0 (A 0 (A 0 (A 0 (A 0 (A 0 (A 1 1)))))))))\n",
    "(A 0 (A 0 (A 0 (A 0 (A 0 (A 0 (A 0 (A 0 (A 0 (2)))))))))\n",
    "(A 0 (A 0 (A 0 (A 0 (A 0 (A 0 (A 0 (A 0 (4))))))))\n",
    "(A 0 (A 0 (A 0 (A 0 (A 0 (A 0 (A 0 (8)))))))\n",
    "(A 0 (A 0 (A 0 (A 0 (A 0 (A 0 (16)))))))\n",
    "(A 0 (A 0 (A 0 (A 0 (A 0 (32))))))\n",
    "(A 0 (A 0 (A 0 (A 0 (64)))))\n",
    "(A 0 (A 0 (A 0 (128))))\n",
    "(A 0 (A 0 (256)))\n",
    "(A 0 (512))\n",
    "1024\n",
    "```"
   ]
  },
  {
   "cell_type": "code",
   "execution_count": 26,
   "metadata": {},
   "outputs": [
    {
     "data": {
      "text/plain": [
       "1024"
      ]
     },
     "execution_count": 26,
     "metadata": {},
     "output_type": "execute_result"
    }
   ],
   "source": [
    "(A 1 10)"
   ]
  },
  {
   "cell_type": "markdown",
   "metadata": {},
   "source": [
    "```\n",
    "(A 2 4)\n",
    "(A 1 (A 2 3))\n",
    "(A 1 (A 1 (A 2 2)))\n",
    "(A 1 (A 1 (A 1 A(2 1))))\n",
    "(A 1 (A 1 (A 1 2)))\n",
    "(A 1 (A 1 (A 0 A(1 1))))\n",
    "(A 1 (A 1 (A 0 2)))\n",
    "(A 1 (A 1 (4)))\n",
    "(A 1 (A 0 (A 1 3)))\n",
    "(A 1 (A 0 (A 0 (A 1 2))))\n",
    "(A 1 (A 0 (A 0 (A 0 (A 1 1)))))\n",
    "(A 1 (A 0 (A 0 (A 0 (2)))))\n",
    "(A 1 (A 0 (A 0 (4))))\n",
    "(A 1 (A 0 (8)))\n",
    "(A 1 (16))\n",
    "(A 0 A(1 15))\n",
    "(A 0 A(0 A(1 14)))\n",
    "(A 0 A(0 A(0 A(1 13))))\n",
    "(A 0 A(0 A(0 A(0 (A 1 12)))))\n",
    "(A 0 A(0 A(0 A(0 (A 0 (A 1 11))))))\n",
    "(A 0 A(0 A(0 A(0 (A 0 (A 0 (A 1 10)))))))\n",
    "(A 0 A(0 A(0 A(0 (A 0 (A 0 (A 0 (A 1 9))))))))\n",
    "(A 0 A(0 A(0 A(0 (A 0 (A 0 (A 0 (A 0 (A 1 8)))))))))\n",
    "(A 0 A(0 A(0 A(0 (A 0 (A 0 (A 0 (A 0 (A 0 A(1 7))))))))))\n",
    "(A 0 A(0 A(0 A(0 (A 0 (A 0 (A 0 (A 0 (A 0 A(0 A(1 6)))))))))))\n",
    "(A 0 A(0 A(0 A(0 (A 0 (A 0 (A 0 (A 0 (A 0 A(0 A(0 A(1 5))))))))))))\n",
    "(A 0 A(0 A(0 A(0 (A 0 (A 0 (A 0 (A 0 (A 0 A(0 A(0 A(0 A(1 4)))))))))))))\n",
    "(A 0 A(0 A(0 A(0 (A 0 (A 0 (A 0 (A 0 (A 0 A(0 A(0 A(0 A(0 A(1 3))))))))))))))\n",
    "(A 0 A(0 A(0 A(0 (A 0 (A 0 (A 0 (A 0 (A 0 A(0 A(0 A(0 A(0 A(0 A(1 2)))))))))))))))\n",
    "(A 0 A(0 A(0 A(0 (A 0 (A 0 (A 0 (A 0 (A 0 A(0 A(0 A(0 A(0 A(0 A(0 A(1 1))))))))))))))))\n",
    "(A 0 A(0 A(0 A(0 (A 0 (A 0 (A 0 (A 0 (A 0 A(0 A(0 A(0 A(0 A(0 A(0 2)))))))))))))))\n",
    "(A 0 A(0 A(0 A(0 (A 0 (A 0 (A 0 (A 0 (A 0 A(0 A(0 A(0 A(0 A(0 4))))))))))))))\n",
    "(A 0 A(0 A(0 A(0 (A 0 (A 0 (A 0 (A 0 (A 0 A(0 A(0 A(0 A(0 8)))))))))))))\n",
    "(A 0 A(0 A(0 A(0 (A 0 (A 0 (A 0 (A 0 (A 0 A(0 A(0 A(0 16))))))))))))\n",
    "(A 0 A(0 A(0 A(0 (A 0 (A 0 (A 0 (A 0 (A 0 A(0 A(0 32)))))))))))\n",
    "(A 0 A(0 A(0 A(0 (A 0 (A 0 (A 0 (A 0 (A 0 A(0 64))))))))))\n",
    "(A 0 A(0 A(0 A(0 (A 0 (A 0 (A 0 (A 0 (A 0 128)))))))))\n",
    "(A 0 A(0 A(0 A(0 (A 0 (A 0 (A 0 (A 0 256))))))))\n",
    "(A 0 A(0 A(0 A(0 (A 0 (A 0 (A 0 512)))))))\n",
    "(A 0 A(0 A(0 A(0 (A 0 (A 0 1024))))))\n",
    "(A 0 A(0 A(0 A(0 (A 0 2048)))))\n",
    "(A 0 A(0 A(0 A(0 4096))))\n",
    "(A 0 A(0 A(0 8192)))\n",
    "(A 0 A(0 16384))\n",
    "(A 0 32768)\n",
    "(65536)\n",
    "```"
   ]
  },
  {
   "cell_type": "code",
   "execution_count": 27,
   "metadata": {},
   "outputs": [
    {
     "data": {
      "text/plain": [
       "65536"
      ]
     },
     "execution_count": 27,
     "metadata": {},
     "output_type": "execute_result"
    }
   ],
   "source": [
    "(A 2 4)"
   ]
  },
  {
   "cell_type": "markdown",
   "metadata": {},
   "source": [
    "(define (A x y)\n",
    "  (cond ((= y 0) 0)\n",
    "        ((= x 0) (* 2 y))\n",
    "        ((= y 1) 2)\n",
    "        (else (A (- x 1)\n",
    "                 (A x (- y 1))))))\n",
    "```\n",
    "(A 3 3)\n",
    "(A 2 (A 3 2))\n",
    "(A 2 (A 2 (A 3 1))\n",
    "(A 2 (A 2 (2)))\n",
    "(A 2 (A 1 (A 2 1)))\n",
    "(A 2 (A 1 (2)))\n",
    "(A 2 (A 0 (A 1 1)))\n",
    "(A 2 (A 0 (2)))\n",
    "(A 2 (4))\n",
    "(A 1 A(2 3))\n",
    "(A 1 A(1 A(2 2)))\n",
    "(A 1 A(1 A(1 A(2 1))))\n",
    "(A 1 A(1 A(1 2)))\n",
    "(A 1 A(1 A(0 A(1 1))))\n",
    "(A 1 A(1 A(0 2)))\n",
    "(A 1 A(1 4))\n",
    "(A 1 A(0 A(1 3)))\n",
    "(A 1 A(0 A(0 A(1 2))))\n",
    "(A 1 A(0 A(0 A(0 A(1 1)))))\n",
    "(A 1 A(0 A(0 A(0 2))))\n",
    "(A 1 A(0 A(0 4)))\n",
    "(A 1 A(0 8))\n",
    "(A 1 16)\n",
    "(A 0 A(1 15))\n",
    "(A 0 A(0 A(1 14)))\n",
    "(A 0 A(0 A(0 A(1 13))))\n",
    "(A 0 A(0 A(0 A(0 (A 1 12)))))\n",
    "(A 0 A(0 A(0 A(0 (A 0 (A 1 11))))))\n",
    "(A 0 A(0 A(0 A(0 (A 0 (A 0 (A 1 10)))))))\n",
    "(A 0 A(0 A(0 A(0 (A 0 (A 0 (A 0 (A 1 9))))))))\n",
    "(A 0 A(0 A(0 A(0 (A 0 (A 0 (A 0 (A 0 (A 1 8)))))))))\n",
    "(A 0 A(0 A(0 A(0 (A 0 (A 0 (A 0 (A 0 (A 0 A(1 7))))))))))\n",
    "(A 0 A(0 A(0 A(0 (A 0 (A 0 (A 0 (A 0 (A 0 A(0 A(1 6)))))))))))\n",
    "(A 0 A(0 A(0 A(0 (A 0 (A 0 (A 0 (A 0 (A 0 A(0 A(0 A(1 5))))))))))))\n",
    "(A 0 A(0 A(0 A(0 (A 0 (A 0 (A 0 (A 0 (A 0 A(0 A(0 A(0 A(1 4)))))))))))))\n",
    "(A 0 A(0 A(0 A(0 (A 0 (A 0 (A 0 (A 0 (A 0 A(0 A(0 A(0 A(0 A(1 3))))))))))))))\n",
    "(A 0 A(0 A(0 A(0 (A 0 (A 0 (A 0 (A 0 (A 0 A(0 A(0 A(0 A(0 A(0 A(1 2)))))))))))))))\n",
    "(A 0 A(0 A(0 A(0 (A 0 (A 0 (A 0 (A 0 (A 0 A(0 A(0 A(0 A(0 A(0 A(0 A(1 1))))))))))))))))\n",
    "(A 0 A(0 A(0 A(0 (A 0 (A 0 (A 0 (A 0 (A 0 A(0 A(0 A(0 A(0 A(0 A(0 2)))))))))))))))\n",
    "(A 0 A(0 A(0 A(0 (A 0 (A 0 (A 0 (A 0 (A 0 A(0 A(0 A(0 A(0 A(0 4))))))))))))))\n",
    "(A 0 A(0 A(0 A(0 (A 0 (A 0 (A 0 (A 0 (A 0 A(0 A(0 A(0 A(0 8)))))))))))))\n",
    "(A 0 A(0 A(0 A(0 (A 0 (A 0 (A 0 (A 0 (A 0 A(0 A(0 A(0 16))))))))))))\n",
    "(A 0 A(0 A(0 A(0 (A 0 (A 0 (A 0 (A 0 (A 0 A(0 A(0 32)))))))))))\n",
    "(A 0 A(0 A(0 A(0 (A 0 (A 0 (A 0 (A 0 (A 0 A(0 64))))))))))\n",
    "(A 0 A(0 A(0 A(0 (A 0 (A 0 (A 0 (A 0 (A 0 128)))))))))\n",
    "(A 0 A(0 A(0 A(0 (A 0 (A 0 (A 0 (A 0 256))))))))\n",
    "(A 0 A(0 A(0 A(0 (A 0 (A 0 (A 0 512)))))))\n",
    "(A 0 A(0 A(0 A(0 (A 0 (A 0 1024))))))\n",
    "(A 0 A(0 A(0 A(0 (A 0 2048)))))\n",
    "(A 0 A(0 A(0 A(0 4096))))\n",
    "(A 0 A(0 A(0 8192)))\n",
    "(A 0 A(0 16384))\n",
    "(A 0 32768)\n",
    "(65536)\n",
    "```"
   ]
  },
  {
   "cell_type": "code",
   "execution_count": 28,
   "metadata": {},
   "outputs": [
    {
     "data": {
      "text/plain": [
       "65536"
      ]
     },
     "execution_count": 28,
     "metadata": {},
     "output_type": "execute_result"
    }
   ],
   "source": [
    "(A 3 3)"
   ]
  },
  {
   "cell_type": "markdown",
   "metadata": {},
   "source": [
    "Consider the following procedures, where A is the procedure defined above:\n",
    "```\n",
    "(define (f n) (A 0 n))\n",
    "(define (g n) (A 1 n))\n",
    "(define (h n) (A 2 n))\n",
    "(define (k n) (* 5 n n))\n",
    "```\n",
    "“Give concise mathematical definitions for the functions computed by the procedures `f`, `g`, and `h` for positive integer values of `n`. For example, `(k n)` computes 5n<sup>2</sup>.”"
   ]
  },
  {
   "cell_type": "markdown",
   "metadata": {},
   "source": [
    "f = 2n\n",
    "\n",
    "g = 2^n\n",
    "\n",
    "h = 2^2^... with (n-1) exponents of 2"
   ]
  },
  {
   "cell_type": "markdown",
   "metadata": {},
   "source": [
    "### “Exercise 1.11: A function `f` is defined by the rule that  f(n)=n if n<3 and f(n)=f(n−1) + 2f(n−2) + 3f(n−3) if n≥3. Write a procedure that computes `f` by means of a recursive process. Write a procedure that computes `f` by means of an iterative process.”"
   ]
  },
  {
   "cell_type": "code",
   "execution_count": 29,
   "metadata": {},
   "outputs": [],
   "source": [
    ";Recursive\n",
    "(define (f n)\n",
    "  (cond ((< n 3) n)\n",
    "        (else (+ (f (- n 1)) (* 2 (f(- n 2))) (* 3 (f(- n 3)))))))"
   ]
  },
  {
   "cell_type": "code",
   "execution_count": 30,
   "metadata": {},
   "outputs": [],
   "source": [
    ";Iterative\n",
    "(define (f2 n)\n",
    "  (f2-iter 2 1 0 n))\n",
    "(define (f2-iter a b c count)\n",
    "  (cond ((< count 3) count)\n",
    "        ((= count 3) (+ a (* 2 b) (* 3 c)))\n",
    "        ((> count 3) (f2-iter (+ a (* b 2) (* c 3)) a b (- count 1)))))"
   ]
  },
  {
   "cell_type": "code",
   "execution_count": 31,
   "metadata": {},
   "outputs": [
    {
     "data": {
      "text/plain": [
       "1"
      ]
     },
     "execution_count": 31,
     "metadata": {},
     "output_type": "execute_result"
    }
   ],
   "source": [
    "(f 1)"
   ]
  },
  {
   "cell_type": "code",
   "execution_count": 32,
   "metadata": {},
   "outputs": [
    {
     "data": {
      "text/plain": [
       "1"
      ]
     },
     "execution_count": 32,
     "metadata": {},
     "output_type": "execute_result"
    }
   ],
   "source": [
    "(f2 1)"
   ]
  },
  {
   "cell_type": "code",
   "execution_count": 33,
   "metadata": {},
   "outputs": [
    {
     "data": {
      "text/plain": [
       "2"
      ]
     },
     "execution_count": 33,
     "metadata": {},
     "output_type": "execute_result"
    }
   ],
   "source": [
    "(f 2)"
   ]
  },
  {
   "cell_type": "code",
   "execution_count": 34,
   "metadata": {},
   "outputs": [
    {
     "data": {
      "text/plain": [
       "2"
      ]
     },
     "execution_count": 34,
     "metadata": {},
     "output_type": "execute_result"
    }
   ],
   "source": [
    "(f2 2)"
   ]
  },
  {
   "cell_type": "code",
   "execution_count": 35,
   "metadata": {},
   "outputs": [
    {
     "data": {
      "text/plain": [
       "4"
      ]
     },
     "execution_count": 35,
     "metadata": {},
     "output_type": "execute_result"
    }
   ],
   "source": [
    "(f 3)"
   ]
  },
  {
   "cell_type": "code",
   "execution_count": 36,
   "metadata": {},
   "outputs": [
    {
     "data": {
      "text/plain": [
       "4"
      ]
     },
     "execution_count": 36,
     "metadata": {},
     "output_type": "execute_result"
    }
   ],
   "source": [
    "(f2 3)"
   ]
  },
  {
   "cell_type": "code",
   "execution_count": 37,
   "metadata": {},
   "outputs": [
    {
     "data": {
      "text/plain": [
       "11"
      ]
     },
     "execution_count": 37,
     "metadata": {},
     "output_type": "execute_result"
    }
   ],
   "source": [
    "(f 4)"
   ]
  },
  {
   "cell_type": "code",
   "execution_count": 38,
   "metadata": {},
   "outputs": [
    {
     "data": {
      "text/plain": [
       "11"
      ]
     },
     "execution_count": 38,
     "metadata": {},
     "output_type": "execute_result"
    }
   ],
   "source": [
    "(f2 4)"
   ]
  },
  {
   "cell_type": "code",
   "execution_count": 39,
   "metadata": {},
   "outputs": [
    {
     "data": {
      "text/plain": [
       "25"
      ]
     },
     "execution_count": 39,
     "metadata": {},
     "output_type": "execute_result"
    }
   ],
   "source": [
    "(f 5)"
   ]
  },
  {
   "cell_type": "code",
   "execution_count": 40,
   "metadata": {},
   "outputs": [
    {
     "data": {
      "text/plain": [
       "25"
      ]
     },
     "execution_count": 40,
     "metadata": {},
     "output_type": "execute_result"
    }
   ],
   "source": [
    "(f2 5)"
   ]
  },
  {
   "cell_type": "code",
   "execution_count": 41,
   "metadata": {},
   "outputs": [
    {
     "data": {
      "text/plain": [
       "59"
      ]
     },
     "execution_count": 41,
     "metadata": {},
     "output_type": "execute_result"
    }
   ],
   "source": [
    "(f 6)"
   ]
  },
  {
   "cell_type": "code",
   "execution_count": 42,
   "metadata": {},
   "outputs": [
    {
     "data": {
      "text/plain": [
       "59"
      ]
     },
     "execution_count": 42,
     "metadata": {},
     "output_type": "execute_result"
    }
   ],
   "source": [
    "(f2 6)"
   ]
  },
  {
   "cell_type": "code",
   "execution_count": 43,
   "metadata": {},
   "outputs": [
    {
     "data": {
      "text/plain": [
       "338870"
      ]
     },
     "execution_count": 43,
     "metadata": {},
     "output_type": "execute_result"
    }
   ],
   "source": [
    "(f 16)"
   ]
  },
  {
   "cell_type": "markdown",
   "metadata": {},
   "source": [
    "Recursive `f` starts to struggle"
   ]
  },
  {
   "cell_type": "code",
   "execution_count": 44,
   "metadata": {},
   "outputs": [
    {
     "data": {
      "text/plain": [
       "338870"
      ]
     },
     "execution_count": 44,
     "metadata": {},
     "output_type": "execute_result"
    }
   ],
   "source": [
    "(f2 16)"
   ]
  },
  {
   "cell_type": "markdown",
   "metadata": {},
   "source": [
    "Iterative `f` still going strong"
   ]
  },
  {
   "cell_type": "markdown",
   "metadata": {},
   "source": [
    "### “Exercise 1.12: The following pattern of numbers is called Pascal’s triangle.\n",
    "```\n",
    "         1\n",
    "       1   1\n",
    "     1   2   1\n",
    "   1   3   3   1\n",
    " 1   4   6   4   1\n",
    "       . . .\n",
    "```\n",
    "The numbers at the edge of the triangle are all 1, and each number inside the triangle is the sum of the two numbers above it. Write a procedure that computes elements of Pascal’s triangle by means of a recursive process.”"
   ]
  },
  {
   "cell_type": "code",
   "execution_count": 45,
   "metadata": {},
   "outputs": [],
   "source": [
    "(define(fib row col)\n",
    "    (cond ((= row 1) 1)\n",
    "          ((= col 1) 1)\n",
    "          ((= col row) 1)\n",
    "          (else (+ (fib (- row 1) (- col 1)) \n",
    "                   (fib (- row 1) col)))))"
   ]
  },
  {
   "cell_type": "code",
   "execution_count": 46,
   "metadata": {},
   "outputs": [
    {
     "data": {
      "text/plain": [
       "1"
      ]
     },
     "execution_count": 46,
     "metadata": {},
     "output_type": "execute_result"
    }
   ],
   "source": [
    "(fib 1 1)"
   ]
  },
  {
   "cell_type": "code",
   "execution_count": 47,
   "metadata": {},
   "outputs": [
    {
     "data": {
      "text/plain": [
       "1"
      ]
     },
     "execution_count": 47,
     "metadata": {},
     "output_type": "execute_result"
    }
   ],
   "source": [
    "(fib 2 1)"
   ]
  },
  {
   "cell_type": "code",
   "execution_count": 48,
   "metadata": {},
   "outputs": [
    {
     "data": {
      "text/plain": [
       "1"
      ]
     },
     "execution_count": 48,
     "metadata": {},
     "output_type": "execute_result"
    }
   ],
   "source": [
    "(fib 2 2)"
   ]
  },
  {
   "cell_type": "code",
   "execution_count": 49,
   "metadata": {},
   "outputs": [
    {
     "data": {
      "text/plain": [
       "1"
      ]
     },
     "execution_count": 49,
     "metadata": {},
     "output_type": "execute_result"
    }
   ],
   "source": [
    "(fib 3 1)"
   ]
  },
  {
   "cell_type": "code",
   "execution_count": 50,
   "metadata": {},
   "outputs": [
    {
     "data": {
      "text/plain": [
       "2"
      ]
     },
     "execution_count": 50,
     "metadata": {},
     "output_type": "execute_result"
    }
   ],
   "source": [
    "(fib 3 2)"
   ]
  },
  {
   "cell_type": "code",
   "execution_count": 51,
   "metadata": {},
   "outputs": [
    {
     "data": {
      "text/plain": [
       "1"
      ]
     },
     "execution_count": 51,
     "metadata": {},
     "output_type": "execute_result"
    }
   ],
   "source": [
    "(fib 3 3)"
   ]
  },
  {
   "cell_type": "code",
   "execution_count": 52,
   "metadata": {},
   "outputs": [
    {
     "data": {
      "text/plain": [
       "3"
      ]
     },
     "execution_count": 52,
     "metadata": {},
     "output_type": "execute_result"
    }
   ],
   "source": [
    "(fib 4 2)"
   ]
  },
  {
   "cell_type": "code",
   "execution_count": 53,
   "metadata": {},
   "outputs": [
    {
     "data": {
      "text/plain": [
       "3"
      ]
     },
     "execution_count": 53,
     "metadata": {},
     "output_type": "execute_result"
    }
   ],
   "source": [
    "(fib 4 3)"
   ]
  },
  {
   "cell_type": "code",
   "execution_count": 54,
   "metadata": {},
   "outputs": [
    {
     "data": {
      "text/plain": [
       "4"
      ]
     },
     "execution_count": 54,
     "metadata": {},
     "output_type": "execute_result"
    }
   ],
   "source": [
    "(fib 5 2)"
   ]
  },
  {
   "cell_type": "code",
   "execution_count": 55,
   "metadata": {},
   "outputs": [
    {
     "data": {
      "text/plain": [
       "6"
      ]
     },
     "execution_count": 55,
     "metadata": {},
     "output_type": "execute_result"
    }
   ],
   "source": [
    "(fib 5 3)"
   ]
  },
  {
   "cell_type": "code",
   "execution_count": 56,
   "metadata": {},
   "outputs": [
    {
     "data": {
      "text/plain": [
       "70"
      ]
     },
     "execution_count": 56,
     "metadata": {},
     "output_type": "execute_result"
    }
   ],
   "source": [
    "(fib 9 5)"
   ]
  },
  {
   "cell_type": "markdown",
   "metadata": {},
   "source": [
    "### \"Exercise 1.13: Prove that Fib(*n*) is the closest integer to $\\phi^n/\\sqrt{5}$, where $\\phi=(1+\\sqrt{5})/2$. \n",
    "Hint: Let $\\psi={(1-\\sqrt{5})/2}$. Use induction and the definition of the Fibonacci numbers (see 1.2.2) to prove that $Fib(n)={(\\phi^n−\\psi^n)/\\sqrt{5}}$.”"
   ]
  },
  {
   "cell_type": "markdown",
   "metadata": {},
   "source": [
    "${Fib(n)} = {Fib(n-1) + Fib(n-2)}$\n",
    "\n",
    "${(\\phi^{n} − \\psi^{n})/\\sqrt{5}} = {(\\phi^{n-1}−\\psi^{n-1})/\\sqrt{5}} + {(\\phi^{n-2}−\\psi^{n-2})/\\sqrt{5}}$\n",
    "\n",
    "$(\\phi^n−\\psi^n) = \\phi^{n-1}−\\psi^{n-1} + \\phi^{n-2}−\\psi^{n-2}$\n",
    "\n",
    "$(\\phi^n−\\psi^n) = \\phi^{n}/\\phi−\\psi^{n}/\\psi + \\phi^{n}/\\phi^{2}−\\psi^{n}/\\psi^{2}$\n",
    "\n",
    "$(\\phi^n−\\psi^n) = \\phi^{n}(1/\\phi + 1/\\phi^{2})−\\psi^{n}(1/\\psi+1/\\psi^{2})$\n",
    "\n",
    "$(\\phi^n−\\psi^n) = \\phi^{n}(1/(1+\\sqrt{5})/2 + 1/((1+\\sqrt{5})/2)^{2})−\\psi^{n}(1/(1−\\sqrt{5})/2+1/((1−\\sqrt{5})/2)^{2})$\n",
    "\n",
    "$(\\phi^n−\\psi^n) = \\phi^{n}(2/(1+\\sqrt{5}) + 4/(1+\\sqrt{5})^{2})−\\psi^{n}(2/(1−\\sqrt{5})+4/(1−\\sqrt{5})^{2})$\n",
    "\n",
    "$(\\phi^n−\\psi^n) = \\phi^{n}((2 + 2*\\sqrt{5} + 4)/(1+\\sqrt{5})^{2})−\\psi^{n}(2 - 2*\\sqrt{5} + 4/(1−\\sqrt{5})^{2})$\n",
    "\n",
    "$(\\phi^n−\\psi^n) = \\phi^{n}((6 + 2*\\sqrt{5})/(1 + 2*\\sqrt{5} + 5))−\\psi^{n}(6 - 2*\\sqrt{5}/(1 − 2*\\sqrt{5} + 5))$\n",
    "\n",
    "$(\\phi^n−\\psi^n) = \\phi^{n}((6 + 2*\\sqrt{5})/(6 + 2*\\sqrt{5}))−\\psi^{n}(6 - 2*\\sqrt{5}/(6 − 2*\\sqrt{5}))$\n",
    "\n",
    "$(\\phi^n−\\psi^n) = \\phi^n−\\psi^n$"
   ]
  },
  {
   "cell_type": "code",
   "execution_count": 57,
   "metadata": {},
   "outputs": [],
   "source": [
    "(define (ψ) (/ (- 1 (sqrt 5)) 2))"
   ]
  },
  {
   "cell_type": "code",
   "execution_count": 58,
   "metadata": {},
   "outputs": [
    {
     "data": {
      "text/plain": [
       "-0.6180339887498949"
      ]
     },
     "execution_count": 58,
     "metadata": {},
     "output_type": "execute_result"
    }
   ],
   "source": [
    "(ψ)"
   ]
  },
  {
   "cell_type": "markdown",
   "metadata": {},
   "source": [
    "$φ^n−ψ^n/\\sqrt{5}$ ~= $φ^n/\\sqrt{5}$ since ψ is < 1 and as n increases, $ψ^{n}$ decreases"
   ]
  },
  {
   "cell_type": "markdown",
   "metadata": {},
   "source": [
    "Let's check it"
   ]
  },
  {
   "cell_type": "code",
   "execution_count": 59,
   "metadata": {},
   "outputs": [],
   "source": [
    "(define (fib n) \n",
    "  (fib-iter 1 0 n))\n",
    "\n",
    "(define (fib-iter a b count)\n",
    "  (if (= count 0)\n",
    "      b\n",
    "      (fib-iter (+ a b) a (- count 1))))\n",
    "\n",
    "(define (φ) (/ (+ 1 (sqrt 5)) 2))"
   ]
  },
  {
   "cell_type": "code",
   "execution_count": 60,
   "metadata": {},
   "outputs": [
    {
     "data": {
      "text/plain": [
       "1.618033988749895"
      ]
     },
     "execution_count": 60,
     "metadata": {},
     "output_type": "execute_result"
    }
   ],
   "source": [
    "(φ)"
   ]
  },
  {
   "cell_type": "code",
   "execution_count": 61,
   "metadata": {},
   "outputs": [
    {
     "data": {
      "text/plain": [
       "55"
      ]
     },
     "execution_count": 61,
     "metadata": {},
     "output_type": "execute_result"
    }
   ],
   "source": [
    "(fib 10)"
   ]
  },
  {
   "cell_type": "code",
   "execution_count": 62,
   "metadata": {},
   "outputs": [
    {
     "data": {
      "text/plain": [
       "55.00363612324743"
      ]
     },
     "execution_count": 62,
     "metadata": {},
     "output_type": "execute_result"
    }
   ],
   "source": [
    "(/ (expt (φ) 10) (sqrt 5))"
   ]
  },
  {
   "cell_type": "code",
   "execution_count": 63,
   "metadata": {},
   "outputs": [
    {
     "data": {
      "text/plain": [
       "354224848179261915075"
      ]
     },
     "execution_count": 63,
     "metadata": {},
     "output_type": "execute_result"
    }
   ],
   "source": [
    "(fib 100)"
   ]
  },
  {
   "cell_type": "code",
   "execution_count": 64,
   "metadata": {},
   "outputs": [
    {
     "data": {
      "text/plain": [
       "3.542248481792631e+20"
      ]
     },
     "execution_count": 64,
     "metadata": {},
     "output_type": "execute_result"
    }
   ],
   "source": [
    "(/ (expt (φ) 100) (sqrt 5))"
   ]
  },
  {
   "cell_type": "markdown",
   "metadata": {},
   "source": [
    "# “Exercise 1.14: Draw the tree illustrating the process generated by the count-change procedure of 1.2.2 in making change for 11 cents. What are the orders of growth of the space and number of steps used by this process as the amount to be changed increases?”\n",
    "```\n",
    "(define (count-change amount)\n",
    "  (cc amount 3))\n",
    "\n",
    "(define (cc amount kinds-of-coins)\n",
    "  (cond ((= amount 0) 1)\n",
    "        ((or (< amount 0) \n",
    "             (= kinds-of-coins 0)) 0)\n",
    "        (else \n",
    "         (+ (cc amount (- kinds-of-coins 1))\n",
    "            (cc (- amount (first-denomination \n",
    "                           kinds-of-coins))\n",
    "                kinds-of-coins)))))\n",
    "\n",
    "(define (first-denomination kinds-of-coins)\n",
    "  (cond ((= kinds-of-coins 1) 1)\n",
    "        ((= kinds-of-coins 2) 5)\n",
    "        ((= kinds-of-coins 3) 10)))```"
   ]
  },
  {
   "cell_type": "markdown",
   "metadata": {},
   "source": [
    "![1.14.png](1.14.png)"
   ]
  },
  {
   "cell_type": "markdown",
   "metadata": {},
   "source": [
    "Space grows ? for n coins\n",
    "Time grows ? for n coins"
   ]
  },
  {
   "cell_type": "markdown",
   "metadata": {},
   "source": [
    "# “Exercise 1.15: The sine of an angle (specified in radians) can be computed by making use of the approximation `sin x ≈ x` if `x` is sufficiently small, and the trigonometric identity\n",
    "$$\\sin{x} = 3(\\sin⁡{x/3})−4(\\sin{x/3})^{3}⁡$$\n",
    "\n",
    "to reduce the size of the argument of `sin`. (For purposes of this exercise an angle is considered “sufficiently small” if its magnitude is not greater than 0.1 radians.) These ideas are incorporated in the following procedures:\n",
    "\n",
    "```\n",
    "(define (cube x) (* x x x))\n",
    "(define (p x) (- (* 3 x) (* 4 (cube x))))\n",
    "(define (sine angle)\n",
    "    (if (not (> (abs angle) 0.1))\n",
    "    angle\n",
    "    (p (sine (/ angle 3.0)))))\n",
    "```\n"
   ]
  },
  {
   "cell_type": "markdown",
   "metadata": {},
   "source": [
    "## 1. How many times is the procedure p applied when `(sine 12.15)` is evaluated?"
   ]
  },
  {
   "cell_type": "code",
   "execution_count": 65,
   "metadata": {},
   "outputs": [
    {
     "data": {
      "text/plain": [
       "4.166666666666667"
      ]
     },
     "execution_count": 65,
     "metadata": {},
     "output_type": "execute_result"
    }
   ],
   "source": [
    "(/ 12.5 3.0)"
   ]
  },
  {
   "cell_type": "code",
   "execution_count": 66,
   "metadata": {},
   "outputs": [
    {
     "data": {
      "text/plain": [
       "1.3888888888866668"
      ]
     },
     "execution_count": 66,
     "metadata": {},
     "output_type": "execute_result"
    }
   ],
   "source": [
    "(/ 4.16666666666 3)"
   ]
  },
  {
   "cell_type": "code",
   "execution_count": 67,
   "metadata": {},
   "outputs": [
    {
     "data": {
      "text/plain": [
       "0.46296296296"
      ]
     },
     "execution_count": 67,
     "metadata": {},
     "output_type": "execute_result"
    }
   ],
   "source": [
    "(/ 1.38888888888 3)"
   ]
  },
  {
   "cell_type": "code",
   "execution_count": 68,
   "metadata": {},
   "outputs": [
    {
     "data": {
      "text/plain": [
       "0.15432098765333332"
      ]
     },
     "execution_count": 68,
     "metadata": {},
     "output_type": "execute_result"
    }
   ],
   "source": [
    "(/ 0.46296296296 3)"
   ]
  },
  {
   "cell_type": "code",
   "execution_count": 69,
   "metadata": {},
   "outputs": [
    {
     "data": {
      "text/plain": [
       "0.05144032921766667"
      ]
     },
     "execution_count": 69,
     "metadata": {},
     "output_type": "execute_result"
    }
   ],
   "source": [
    "(/ 0.154320987653 3)"
   ]
  },
  {
   "cell_type": "markdown",
   "metadata": {},
   "source": [
    "### 5 times"
   ]
  },
  {
   "cell_type": "markdown",
   "metadata": {},
   "source": [
    "## 2. What is the order of growth in space and number of steps (as a function of `a`) used by the process generated by the `sine` procedure when (`sine a`) is evaluated?"
   ]
  },
  {
   "cell_type": "markdown",
   "metadata": {},
   "source": [
    "`a` needs to be divided by 3 until it is less than 0.1\n",
    "\n",
    "a / 3 / 3 / 3 ... / 3  < 0.1\n",
    "\n",
    "a * 0.1 < (3 ^ n)\n",
    "\n",
    "log3(a * 0.1) < n"
   ]
  },
  {
   "cell_type": "markdown",
   "metadata": {},
   "source": [
    "### An extra step for every time `a` grows by a factor of 3 or $\\log_3{a}$ growth"
   ]
  },
  {
   "cell_type": "markdown",
   "metadata": {},
   "source": [
    "# “Exercise 1.16: Design a procedure that evolves an iterative exponentiation process that uses successive squaring and uses a logarithmic number of steps, as does fast-expt. \n",
    "(Hint: Using the observation that ${(b^{n/2})^{2}} = {(b^{2})^{n/2}}$, keep, along with the exponent `n` and the base `b`, an additional state variable `a`, and define the state transformation in such a way that the product $ab^n$ is unchanged from state to state. At the beginning of the process `a` is taken to be 1, and the answer is given by the value of `a` at the end of the process. In general, the technique of defining an invariant quantity that remains unchanged from state to state is a powerful way to think about the design of iterative algorithms.)”"
   ]
  },
  {
   "cell_type": "code",
   "execution_count": 70,
   "metadata": {},
   "outputs": [],
   "source": [
    "(define(fast-expt b n) \n",
    "  (fast-expt-iter b n 1))\n",
    "\n",
    "(define (fast-expt-iter b n a)\n",
    "  (cond ((= n 1) (* a b))\n",
    "      ((even? n)\n",
    "       (fast-expt-iter (square b) (/ n 2) a))\n",
    "      (else\n",
    "        (fast-expt-iter b (- n 1) (* a b)))))\n",
    "      \n",
    "(define (even? n)\n",
    "  (= (remainder n 2) 0))\n",
    "        \n",
    "(define (square x)\n",
    "  (* x x))"
   ]
  },
  {
   "cell_type": "code",
   "execution_count": 71,
   "metadata": {},
   "outputs": [
    {
     "data": {
      "text/plain": [
       "1024"
      ]
     },
     "execution_count": 71,
     "metadata": {},
     "output_type": "execute_result"
    }
   ],
   "source": [
    "(fast-expt 2 10)"
   ]
  },
  {
   "cell_type": "code",
   "execution_count": 72,
   "metadata": {},
   "outputs": [
    {
     "data": {
      "text/plain": [
       "19950631168807583848837421626835850838234968318861924548520089498529438830221946631919961684036194597899331129423209124271556491349413781117593785932096323957855730046793794526765246551266059895520550086918193311542508608460618104685509074866089624888090489894838009253941633257850621568309473902556912388065225096643874441046759871626985453222868538161694315775629640762836880760732228535091641476183956381458969463899410840960536267821064621427333394036525565649530603142680234969400335934316651459297773279665775606172582031407994198179607378245683762280037302885487251900834464581454650557929601414833921615734588139257095379769119277800826957735674444123062018757836325502728323789270710373802866393031428133241401624195671690574061419654342324638801248856147305207431992259611796250130992860241708340807605932320161268492288496255841312844061536738951487114256315111089745514203313820202931640957596464756010405845841566072044962867016515061920631004186422275908670900574606417856951911456055068251250406007519842261898059237118054444788072906395242548339221982707404473162376760846613033778706039803413197133493654622700563169937455508241780972810983291314403571877524768509857276937926433221599399876886660808368837838027643282775172273657572744784112294389733810861607423253291974813120197604178281965697475898164531258434135959862784130128185406283476649088690521047580882615823961985770122407044330583075869039319604603404973156583208672105913300903752823415539745394397715257455290510212310947321610753474825740775273986348298498340756937955646638621874569499279016572103701364433135817214311791398222983845847334440270964182851005072927748364550578634501100852987812389473928699540834346158807043959118985815145779177143619698728131459483783202081474982171858011389071228250905826817436220577475921417653715687725614904582904992461028630081535583308130101987675856234343538955409175623400844887526162643568648833519463720377293240094456246923254350400678027273837755376406726898636241037491410966718557050759098100246789880178271925953381282421954028302759408448955014676668389697996886241636313376393903373455801407636741877711055384225739499110186468219696581651485130494222369947714763069155468217682876200362777257723781365331611196811280792669481887201298643660768551639860534602297871557517947385246369446923087894265948217008051120322365496288169035739121368338393591756418733850510970271613915439590991598154654417336311656936031122249937969999226781732358023111862644575299135758175008199839236284615249881088960232244362173771618086357015468484058622329792853875623486556440536962622018963571028812361567512543338303270029097668650568557157505516727518899194129711337690149916181315171544007728650573189557450920330185304847113818315407324053319038462084036421763703911550639789000742853672196280903477974533320468368795868580237952218629120080742819551317948157624448298518461509704888027274721574688131594750409732115080498190455803416826949787141316063210686391511681774304792596709376"
      ]
     },
     "execution_count": 72,
     "metadata": {},
     "output_type": "execute_result"
    }
   ],
   "source": [
    "(fast-expt 2 10000)"
   ]
  },
  {
   "cell_type": "markdown",
   "metadata": {},
   "source": [
    "# Exercise 1.17: The exponentiation algorithms in this section are based on performing exponentiation by means of repeated multiplication. In a similar way, one can perform integer multiplication by means of repeated addition. The following multiplication procedure (in which it is assumed that our language can only add, not multiply) is analogous to the expt procedure:\n",
    "```\n",
    "(define (* a b)\n",
    "  (if (= b 0)\n",
    "      0\n",
    "      (+ a (* a (- b 1)))))\n",
    "```\n",
    "This algorithm takes a number of steps that is linear in b. Now suppose we include, together with addition, operations double, which doubles an integer, and halve, which divides an (even) integer by 2. Using these, design a multiplication procedure analogous to fast-expt that uses a logarithmic number of steps.”"
   ]
  },
  {
   "cell_type": "code",
   "execution_count": 73,
   "metadata": {},
   "outputs": [],
   "source": [
    "(define(fast-mult a b) \n",
    "  (fast-mult-iter a b 0))\n",
    "\n",
    "(define (fast-mult-iter a b c)\n",
    "  (cond ((= b 1) (+ a c))\n",
    "    ((even? b)\n",
    "     (fast-mult-iter (double a) (halve b) c))\n",
    "    (else\n",
    "      (fast-mult-iter a (- b 1) (+ c a)))))\n",
    "\n",
    "(define (double x)\n",
    "  (* x 2))\n",
    "\n",
    "(define (halve x)\n",
    "  (/ x 2))\n",
    "\n",
    "(define (even? n)\n",
    "  (= (remainder n 2) 0))"
   ]
  },
  {
   "cell_type": "code",
   "execution_count": 74,
   "metadata": {},
   "outputs": [
    {
     "data": {
      "text/plain": [
       "100"
      ]
     },
     "execution_count": 74,
     "metadata": {},
     "output_type": "execute_result"
    }
   ],
   "source": [
    "(fast-mult 10 10)"
   ]
  },
  {
   "cell_type": "code",
   "execution_count": 75,
   "metadata": {},
   "outputs": [
    {
     "data": {
      "text/plain": [
       "360000"
      ]
     },
     "execution_count": 75,
     "metadata": {},
     "output_type": "execute_result"
    }
   ],
   "source": [
    "(fast-mult 600 600)"
   ]
  },
  {
   "cell_type": "markdown",
   "metadata": {},
   "source": [
    "# “Exercise 1.18: Using the results of Exercise 1.16 and Exercise 1.17, devise a procedure that generates an iterative process for multiplying two integers in terms of adding, doubling, and halving and uses a logarithmic number of steps.”"
   ]
  },
  {
   "cell_type": "markdown",
   "metadata": {},
   "source": [
    "#### Already did it in 1.17"
   ]
  },
  {
   "cell_type": "markdown",
   "metadata": {},
   "source": [
    "# “Exercise 1.19: There is a clever algorithm for computing the Fibonacci numbers in a logarithmic number of steps. Recall the transformation of the state variables `a` and `b` in the fib-iter process of 1.2.2: $a←a+b$ and $b←a$. Call this transformation `T`, and observe that applying `T` over and over again `n` times, starting with 1 and 0, produces the pair `Fib(n+1)` and `Fib(n)`. In other words, the Fibonacci numbers are produced by applying $T^{n}$, the $n^{th}$ power of the transformation `T`, starting with the pair (1, 0). Now consider `T` to be the special case of `p=0` and `q=1` in a family of transformations $T_{pq}$, where $T_{pq}$ transforms the pair (`a`,`b`) according to $a←bq+aq+ap$ and $b←bp+aq$. Show that if we apply such a transformation $T_{pq}$ twice, the effect is the same as using a single transformation $T_{p′q′}$ of the same form, and compute `p′` and `q′` in terms of `p` and `q`. This gives us an explicit way to square these transformations, and thus we can compute $T^{n}$ using successive squaring, as in the fast-expt procedure. Put this all together to complete the following procedure, which runs in a logarithmic number of steps:\n",
    "```\n",
    "(define (fib n)\n",
    "  (fib-iter 1 0 0 1 n))\n",
    "\n",
    "(define (fib-iter a b p q count)\n",
    "  (cond ((= count 0) \n",
    "         b)\n",
    "        ((even? count)\n",
    "         (fib-iter a\n",
    "                   b\n",
    "           ⟨??⟩  ;compute p'\n",
    "           ⟨??⟩  ;compute q'\n",
    "           (/ count 2)))\n",
    "        (else \n",
    "         (fib-iter (+ (* b q) \n",
    "                      (* a q) \n",
    "                      (* a p))\n",
    "                   (+ (* b p) \n",
    "                      (* a q))\n",
    "                   p\n",
    "                   q\n",
    "                   (- count 1)))))\n",
    "```"
   ]
  },
  {
   "cell_type": "markdown",
   "metadata": {},
   "source": [
    "1. $T_{pq}$, where $T_{pq}$ transforms the pair (`a`,`b`) according to $a←bq+aq+ap$ and $b←bp+aq$. Show that if we apply such a transformation $T_{pq}$ twice, the effect is the same as using a single transformation $T_{p′q′}$ of the same form, and compute `p′` and `q′` in terms of `p` and `q`. "
   ]
  },
  {
   "cell_type": "markdown",
   "metadata": {},
   "source": [
    "```\n",
    "Let's work some examples\n",
    "p=0, q = 1, a=1, b=0\n",
    "[1, 0] -> [1,1] -> [2,1] 2 = q' + p', 1 = q'. p'=1, q'=1. p'= p + 1, q' = q\n",
    "p=0, q = 1, a=2, b=1\n",
    "[2,1] -> [3,2] -> [5,3] 5 = q' + 2q' + 2p' = 3q' + 2p', 3 = p' + 2q'. 5 = 3q' + 2(3-2q') = 6 - q'. p'=p + 1, q'= q.\n",
    "p=2, q=2, a=1, b=0\n",
    "[1,0] -> [4, 2] -> [20, 12] 20= q' + p', 12 = q'. p'=8, q'=12, p'=4 * p, q'= 6 * q\n",
    "p=2, q=2, a=2, b=1\n",
    "[2,1] -> [10,5] -> [50,30] 50 = q' + 2q' + 2p' = 3q' +2p', 30 = p' + 2q'. 50=3q' +2(30-2q')=60 - q'. q'=10, p'=10\n",
    "```"
   ]
  },
  {
   "cell_type": "markdown",
   "metadata": {},
   "source": [
    "Confirm them programatically"
   ]
  },
  {
   "cell_type": "code",
   "execution_count": 76,
   "metadata": {},
   "outputs": [],
   "source": [
    "(define (fiba p q n)\n",
    "    (fib-itera 1 0 p q n))\n",
    "\n",
    "(define (fib-itera a b p q count)\n",
    "    (if (= count 0) \n",
    "        a\n",
    "    (fib-itera (+ (* b q) (* a q) (* a p))\n",
    "            (+ (* b p) (* a q))\n",
    "            p q (- count 1))))\n",
    "(define (fibb p q n)\n",
    "    (fib-iterb 1 0 p q n))\n",
    "\n",
    "(define (fib-iterb a b p q count)\n",
    "    (if (= count 0) \n",
    "        b\n",
    "    (fib-iterb (+ (* b q) (* a q) (* a p))\n",
    "            (+ (* b p) (* a q))\n",
    "            p q (- count 1))))"
   ]
  },
  {
   "cell_type": "code",
   "execution_count": 77,
   "metadata": {},
   "outputs": [
    {
     "data": {
      "text/plain": [
       "2"
      ]
     },
     "execution_count": 77,
     "metadata": {},
     "output_type": "execute_result"
    }
   ],
   "source": [
    "(fiba 0 1 2)"
   ]
  },
  {
   "cell_type": "code",
   "execution_count": 78,
   "metadata": {},
   "outputs": [
    {
     "data": {
      "text/plain": [
       "1"
      ]
     },
     "execution_count": 78,
     "metadata": {},
     "output_type": "execute_result"
    }
   ],
   "source": [
    "(fibb 0 1 2)"
   ]
  },
  {
   "cell_type": "code",
   "execution_count": 79,
   "metadata": {},
   "outputs": [
    {
     "data": {
      "text/plain": [
       "20"
      ]
     },
     "execution_count": 79,
     "metadata": {},
     "output_type": "execute_result"
    }
   ],
   "source": [
    "(fiba 2 2 2)"
   ]
  },
  {
   "cell_type": "code",
   "execution_count": 80,
   "metadata": {},
   "outputs": [
    {
     "data": {
      "text/plain": [
       "12"
      ]
     },
     "execution_count": 80,
     "metadata": {},
     "output_type": "execute_result"
    }
   ],
   "source": [
    "(fibb 2 2 2)"
   ]
  },
  {
   "cell_type": "code",
   "execution_count": 81,
   "metadata": {},
   "outputs": [
    {
     "data": {
      "text/plain": [
       "29"
      ]
     },
     "execution_count": 81,
     "metadata": {},
     "output_type": "execute_result"
    }
   ],
   "source": [
    "(fiba 3 2 2)"
   ]
  },
  {
   "cell_type": "code",
   "execution_count": 82,
   "metadata": {},
   "outputs": [
    {
     "data": {
      "text/plain": [
       "16"
      ]
     },
     "execution_count": 82,
     "metadata": {},
     "output_type": "execute_result"
    }
   ],
   "source": [
    "(fibb 3 2 2)"
   ]
  },
  {
   "cell_type": "markdown",
   "metadata": {},
   "source": [
    "Wait, let's just do some algebra instead"
   ]
  },
  {
   "cell_type": "markdown",
   "metadata": {},
   "source": [
    "```\n",
    "a1←bq+aq+ap and b1←bp+aq\n",
    "\n",
    "a2 <- (bp + aq)q + (bq+aq+ap)q + (bq+aq+ap)p\n",
    "a2 <- bpq + aqq + bqq + aqq + apq + bpq + apq + app\n",
    "a2 <- b(pq + qq + pq) + a(pq + qq + pq) + a(pp + qq)\n",
    "\n",
    "b2 <- (bp+aq)p + (bq+aq+ap)q\n",
    "b2 <- bpp + apq + bqq + aqq + apq\n",
    "b2 <- b(pp + qq) + a(pq + qq + pq)\n",
    "\n",
    "q' = pq + qq + pq\n",
    "p' = pp + qq\n",
    "```"
   ]
  },
  {
   "cell_type": "code",
   "execution_count": 83,
   "metadata": {},
   "outputs": [],
   "source": [
    "(define (fib n)\n",
    "  (fib-iter 1 0 0 1 n))\n",
    "\n",
    "(define (fib-iter a b p q count)\n",
    "  (cond ((= count 0) \n",
    "         b)\n",
    "        ((even? count)\n",
    "         (fib-iter a\n",
    "                   b\n",
    "                   (+ (* p p) ( * q q))\n",
    "                   (+ (* p q) (* q q) (* p q))\n",
    "           (/ count 2)))\n",
    "        (else \n",
    "         (fib-iter (+ (* b q) \n",
    "                      (* a q) \n",
    "                      (* a p))\n",
    "                   (+ (* b p) \n",
    "                      (* a q))\n",
    "                   p\n",
    "                   q\n",
    "                   (- count 1)))))"
   ]
  },
  {
   "cell_type": "code",
   "execution_count": 84,
   "metadata": {},
   "outputs": [
    {
     "data": {
      "text/plain": [
       "1"
      ]
     },
     "execution_count": 84,
     "metadata": {},
     "output_type": "execute_result"
    }
   ],
   "source": [
    "(fib-iter 1 0 0 1 2)"
   ]
  },
  {
   "cell_type": "code",
   "execution_count": 85,
   "metadata": {},
   "outputs": [
    {
     "data": {
      "text/plain": [
       "2"
      ]
     },
     "execution_count": 85,
     "metadata": {},
     "output_type": "execute_result"
    }
   ],
   "source": [
    "(fib-iter 1 0 0 1 3)"
   ]
  },
  {
   "cell_type": "code",
   "execution_count": 86,
   "metadata": {},
   "outputs": [
    {
     "data": {
      "text/plain": [
       "3"
      ]
     },
     "execution_count": 86,
     "metadata": {},
     "output_type": "execute_result"
    }
   ],
   "source": [
    "(fib-iter 1 0 0 1 4)"
   ]
  },
  {
   "cell_type": "code",
   "execution_count": 87,
   "metadata": {},
   "outputs": [
    {
     "data": {
      "text/plain": [
       "5"
      ]
     },
     "execution_count": 87,
     "metadata": {},
     "output_type": "execute_result"
    }
   ],
   "source": [
    "(fib-iter 1 0 0 1 5)"
   ]
  },
  {
   "cell_type": "code",
   "execution_count": 88,
   "metadata": {},
   "outputs": [
    {
     "data": {
      "text/plain": [
       "8"
      ]
     },
     "execution_count": 88,
     "metadata": {},
     "output_type": "execute_result"
    }
   ],
   "source": [
    "(fib-iter 1 0 0 1 6)"
   ]
  },
  {
   "cell_type": "code",
   "execution_count": 89,
   "metadata": {},
   "outputs": [
    {
     "data": {
      "text/plain": [
       "13"
      ]
     },
     "execution_count": 89,
     "metadata": {},
     "output_type": "execute_result"
    }
   ],
   "source": [
    "(fib-iter 1 0 0 1 7)"
   ]
  },
  {
   "cell_type": "code",
   "execution_count": 90,
   "metadata": {},
   "outputs": [
    {
     "data": {
      "text/plain": [
       "12"
      ]
     },
     "execution_count": 90,
     "metadata": {},
     "output_type": "execute_result"
    }
   ],
   "source": [
    "(fib-iter 1 0 2 2 2)"
   ]
  },
  {
   "cell_type": "markdown",
   "metadata": {},
   "source": [
    "# Exercise 1.20: “The process that a procedure generates is of course dependent on the rules used by the interpreter. As an example, consider the iterative gcd procedure given above. Suppose we were to interpret this procedure using normal-order evaluation, as discussed in 1.1.5. (The normal-order-evaluation rule for if is described in Exercise 1.5.) Using the substitution method (for normal order), illustrate the process generated in evaluating (gcd 206 40) and indicate the remainder operations that are actually performed. How many remainder operations are actually performed in the normal-order evaluation of (gcd 206 40)? In the applicative-order evaluation?”\n",
    "```\n",
    "(define (gcd a b)\n",
    "  (if (= b 0)\n",
    "      a\n",
    "      (gcd b (remainder a b))))\n",
    "```"
   ]
  },
  {
   "cell_type": "markdown",
   "metadata": {},
   "source": [
    "Normal-order\n",
    "```\n",
    "(gcd 206 40)\n",
    "(gcd 40 (remainder 206 40))\n",
    "    (if (= (remainder 206 40) 0) -> *1*\n",
    "(gcd (remainder 206 40) (remainder 40 (remainder 206 40))))\n",
    "    (if (= (remainder 40 (remainder 206 40)) 0) -> *2,3*\n",
    "(gcd (remainder 40 (remainder 206 40))(remainder (remainder 206 40) (remainder 40 (remainder 206 40)))))\n",
    "    (if (= (remainder (remainder 206 40) (remainder 40 (remainder 206 40))) 0) -> *4,5,6,7*\n",
    "(gcd (remainder (remainder 206 40) (remainder 40 (remainder 206 40))) \n",
    "    (remainder (remainder 40 (remainder 206 40)) (remainder (remainder 206 40) (remainder 40 (remainder 206 40)))))\n",
    "    (if (= (remainder (remainder 40 (remainder 206 40)) (remainder (remainder 206 40) (remainder 40 (remainder 206 40))))) 0) -> *8,9,10,11,12,13,14*\n",
    "(remainder (remainder 206 40) (remainder 40 (remainder 206 40))) -> *15,16,17,18*\n",
    "```\n",
    "\n",
    "Applicative-order\n",
    "\n",
    "```\n",
    "(gcd 206 40)\n",
    "(gcd 40 (remainder(206 40))) -> *1*\n",
    "(gcd 6 (remainder(40 6)) -> *2*\n",
    "(gcd 4 (remainder(6 4)) -> *3*\n",
    "(gcd 2 (remainder(4 2)) -> *4*\n",
    "2\n",
    "```"
   ]
  },
  {
   "cell_type": "code",
   "execution_count": null,
   "metadata": {},
   "outputs": [],
   "source": []
  }
 ],
 "metadata": {
  "kernelspec": {
   "display_name": "Calysto Scheme 3",
   "language": "scheme",
   "name": "calysto_scheme"
  },
  "language_info": {
   "codemirror_mode": {
    "name": "scheme"
   },
   "mimetype": "text/x-scheme",
   "name": "scheme",
   "pygments_lexer": "scheme"
  }
 },
 "nbformat": 4,
 "nbformat_minor": 2
}

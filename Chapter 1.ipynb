{
 "cells": [
  {
   "cell_type": "markdown",
   "metadata": {},
   "source": [
    "SICP Chapter 1 exercises"
   ]
  },
  {
   "cell_type": "markdown",
   "metadata": {},
   "source": [
    "### \"Exercise 1.2: Translate the following expression into prefix form:\n",
    "5 + 4 + (2 − (3 − (6 + 4/5))) / 3(6 − 2)(2 − 7)” "
   ]
  },
  {
   "cell_type": "code",
   "execution_count": 5,
   "metadata": {},
   "outputs": [
    {
     "data": {
      "text/plain": [
       "-0.24666666666666667"
      ]
     },
     "execution_count": 5,
     "metadata": {},
     "output_type": "execute_result"
    }
   ],
   "source": [
    "(/ (float(+ 5(+ 4(+ (- 2 (- 3 (+ 6 (/ 4 5)))))))) (float(* 3 (- 6 2) (- 2 7))))"
   ]
  },
  {
   "cell_type": "markdown",
   "metadata": {},
   "source": [
    "### “Exercise 1.3: Define a procedure that takes three numbers as arguments and returns the sum of the squares of the two larger numbers.”"
   ]
  },
  {
   "cell_type": "code",
   "execution_count": null,
   "metadata": {},
   "outputs": [],
   "source": [
    "(define (sum-larger-squares x y z) \n",
    "  (cond ((and (> x z) (> y z)) (+(* x x)(* y y)))\n",
    "  ((and (> x y) (> z y)) (+(* x x)(* z z)))\n",
    "  (else (+(* y y) (* z z)))))"
   ]
  },
  {
   "cell_type": "code",
   "execution_count": null,
   "metadata": {},
   "outputs": [],
   "source": [
    "(sum-larger-squares 1 2 3)"
   ]
  },
  {
   "cell_type": "code",
   "execution_count": null,
   "metadata": {},
   "outputs": [],
   "source": [
    "(sum-larger-squares 4 3 2)"
   ]
  },
  {
   "cell_type": "code",
   "execution_count": null,
   "metadata": {},
   "outputs": [],
   "source": [
    "(sum-larger-squares 5 2 3)"
   ]
  },
  {
   "cell_type": "code",
   "execution_count": null,
   "metadata": {},
   "outputs": [],
   "source": [
    "(sum-larger-squares 1 1 1)"
   ]
  },
  {
   "cell_type": "markdown",
   "metadata": {},
   "source": [
    "### “Exercise 1.4: Observe that our model of evaluation allows for combinations whose operators are compound expressions. Use this observation to describe the behavior of the following procedure:\n",
    "\n",
    "(define (a-plus-abs-b a b)\n",
    "  ((if (> b 0) + -) a b))”\n"
   ]
  },
  {
   "cell_type": "code",
   "execution_count": null,
   "metadata": {},
   "outputs": [],
   "source": [
    "(define (a-plus-abs-b a b) ((if (> b 0) + -) a b))"
   ]
  },
  {
   "cell_type": "markdown",
   "metadata": {},
   "source": [
    "Addition is used if b > 0, and subtraction if b <= 0. Equivalent to adding the absolute value of b to a."
   ]
  },
  {
   "cell_type": "markdown",
   "metadata": {},
   "source": [
    "### \"Exercise 1.5: Ben Bitdiddle has invented a test to determine whether the interpreter he is faced with is using applicative-order evaluation or normal-order evaluation. He defines the following two procedures:\n",
    "\n",
    "(define (p) (p))\n",
    "\n",
    "(define (test x y) \n",
    "  (if (= x 0) \n",
    "      0 \n",
    "      y))\n",
    "\n",
    "Then he evaluates the expression\n",
    "\n",
    "(test 0 (p))\n",
    "\n",
    "What behavior will Ben observe with an interpreter that uses applicative-order evaluation? What behavior will he observe with an interpreter that uses normal-order evaluation? Explain your answer. (Assume that the evaluation rule for the special form `if` is the same whether the interpreter is using normal or applicative order: The predicate expression is evaluated first, and the result determines whether to evaluate the consequent or the alternative expression.)”"
   ]
  },
  {
   "cell_type": "markdown",
   "metadata": {},
   "source": [
    "Applicative-order: y is evaluated before the if clause is executed. This gets caught in a recursive loop since `p` defines itself.\n",
    "\n",
    "Normal-order: `p` is never evaluated and 0 is returned"
   ]
  },
  {
   "cell_type": "markdown",
   "metadata": {},
   "source": [
    "### \"Exercise 1.6: Alyssa P. Hacker doesn’t see why if needs to be provided as a special form. “Why can’t I just define it as an ordinary procedure in terms of cond?” she asks. Alyssa’s friend Eva Lu Ator claims this can indeed be done, and she defines a new version of if:\n",
    "\n",
    "`(define (new-if predicate \n",
    "                then-clause \n",
    "                else-clause)\n",
    "  (cond (predicate then-clause)\n",
    "        (else else-clause)))`\n",
    "\n",
    "Eva demonstrates the program for Alyssa:\n",
    "\n",
    "`(new-if (= 2 3) 0 5)`\n",
    "\n",
    "5\n",
    "\n",
    "`(new-if (= 1 1) 0 5)`\n",
    "\n",
    "0\n",
    "\n",
    "Delighted, Alyssa uses new-if to rewrite the square-root program:\n",
    "\n",
    "`(define (sqrt-iter guess x)\n",
    "  (new-if (good-enough? guess x)\n",
    "          guess\n",
    "          (sqrt-iter (improve guess x) x)))`\n",
    "\n",
    "What happens when Alyssa attempts to use this to compute square roots? Explain.”"
   ]
  },
  {
   "cell_type": "markdown",
   "metadata": {},
   "source": [
    "`\n",
    "(define (average x y) \n",
    "  (/ (+ x y) 2))\n",
    "(define (improve guess x)\n",
    "  (average guess (/ x guess)))\n",
    "(define (good-enough? guess x)\n",
    "  (< (abs (- (square guess) x)) 0.001))\n",
    "(define (square x)\n",
    "  (* x x))\n",
    "(define (new-if predicate \n",
    "                then-clause \n",
    "                else-clause)\n",
    "  (cond (predicate then-clause)\n",
    "        (else else-clause)))\n",
    "(define (sqrt-iter guess x)\n",
    "  (new-if (good-enough? guess x)\n",
    "          guess\n",
    "          (sqrt-iter (improve guess x) x)))`"
   ]
  },
  {
   "cell_type": "markdown",
   "metadata": {},
   "source": [
    "With applicative ordering, the else clause gets evaluated before the conditional is applied. This leads to a recursive loop."
   ]
  },
  {
   "cell_type": "code",
   "execution_count": null,
   "metadata": {},
   "outputs": [],
   "source": []
  }
 ],
 "metadata": {
  "kernelspec": {
   "display_name": "Calysto Scheme 3",
   "language": "scheme",
   "name": "calysto_scheme"
  },
  "language_info": {
   "codemirror_mode": {
    "name": "scheme"
   },
   "mimetype": "text/x-scheme",
   "name": "scheme",
   "pygments_lexer": "scheme"
  }
 },
 "nbformat": 4,
 "nbformat_minor": 2
}

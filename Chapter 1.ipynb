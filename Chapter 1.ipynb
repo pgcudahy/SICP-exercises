{
 "cells": [
  {
   "cell_type": "markdown",
   "metadata": {},
   "source": [
    "# SICP Chapter 1 exercises"
   ]
  },
  {
   "cell_type": "markdown",
   "metadata": {},
   "source": [
    "### \"Exercise 1.2: Translate the following expression into prefix form:\n",
    "5 + 4 + (2 − (3 − (6 + 4/5))) / 3(6 − 2)(2 − 7)” "
   ]
  },
  {
   "cell_type": "code",
   "execution_count": null,
   "metadata": {},
   "outputs": [],
   "source": [
    "(/ (float(+ 5(+ 4(+ (- 2 (- 3 (+ 6 (/ 4 5)))))))) (float(* 3 (- 6 2) (- 2 7))))"
   ]
  },
  {
   "cell_type": "markdown",
   "metadata": {},
   "source": [
    "### “Exercise 1.3: Define a procedure that takes three numbers as arguments and returns the sum of the squares of the two larger numbers.”"
   ]
  },
  {
   "cell_type": "code",
   "execution_count": null,
   "metadata": {},
   "outputs": [],
   "source": [
    "(define (sum-larger-squares x y z) \n",
    "  (cond ((and (> x z) (> y z)) (+(* x x)(* y y)))\n",
    "  ((and (> x y) (> z y)) (+(* x x)(* z z)))\n",
    "  (else (+(* y y) (* z z)))))"
   ]
  },
  {
   "cell_type": "code",
   "execution_count": null,
   "metadata": {},
   "outputs": [],
   "source": [
    "(sum-larger-squares 1 2 3)"
   ]
  },
  {
   "cell_type": "code",
   "execution_count": null,
   "metadata": {},
   "outputs": [],
   "source": [
    "(sum-larger-squares 4 3 2)"
   ]
  },
  {
   "cell_type": "code",
   "execution_count": null,
   "metadata": {},
   "outputs": [],
   "source": [
    "(sum-larger-squares 5 2 3)"
   ]
  },
  {
   "cell_type": "code",
   "execution_count": null,
   "metadata": {},
   "outputs": [],
   "source": [
    "(sum-larger-squares 1 1 1)"
   ]
  },
  {
   "cell_type": "markdown",
   "metadata": {},
   "source": [
    "### “Exercise 1.4: Observe that our model of evaluation allows for combinations whose operators are compound expressions. Use this observation to describe the behavior of the following procedure:\n",
    "\n",
    "(define (a-plus-abs-b a b)\n",
    "  ((if (> b 0) + -) a b))”\n"
   ]
  },
  {
   "cell_type": "code",
   "execution_count": null,
   "metadata": {},
   "outputs": [],
   "source": [
    "(define (a-plus-abs-b a b) ((if (> b 0) + -) a b))"
   ]
  },
  {
   "cell_type": "markdown",
   "metadata": {},
   "source": [
    "#### Addition is used if b > 0, and subtraction if b <= 0. Equivalent to adding the absolute value of b to a."
   ]
  },
  {
   "cell_type": "markdown",
   "metadata": {},
   "source": [
    "### \"Exercise 1.5: Ben Bitdiddle has invented a test to determine whether the interpreter he is faced with is using applicative-order evaluation or normal-order evaluation. He defines the following two procedures:\n",
    "\n",
    "(define (p) (p))\n",
    "\n",
    "(define (test x y) \n",
    "  (if (= x 0) \n",
    "      0 \n",
    "      y))\n",
    "\n",
    "Then he evaluates the expression\n",
    "\n",
    "(test 0 (p))\n",
    "\n",
    "What behavior will Ben observe with an interpreter that uses applicative-order evaluation? What behavior will he observe with an interpreter that uses normal-order evaluation? Explain your answer. (Assume that the evaluation rule for the special form `if` is the same whether the interpreter is using normal or applicative order: The predicate expression is evaluated first, and the result determines whether to evaluate the consequent or the alternative expression.)”"
   ]
  },
  {
   "cell_type": "markdown",
   "metadata": {},
   "source": [
    "#### Applicative-order: y is evaluated before the if clause is executed. This gets caught in a recursive loop since `p` defines itself.\n",
    "\n",
    "Normal-order: `p` is never evaluated and 0 is returned"
   ]
  },
  {
   "cell_type": "markdown",
   "metadata": {},
   "source": [
    "### \"Exercise 1.6: Alyssa P. Hacker doesn’t see why if needs to be provided as a special form. “Why can’t I just define it as an ordinary procedure in terms of cond?” she asks. Alyssa’s friend Eva Lu Ator claims this can indeed be done, and she defines a new version of if:\n",
    "\n",
    "`(define (new-if predicate \n",
    "                then-clause \n",
    "                else-clause)\n",
    "  (cond (predicate then-clause)\n",
    "        (else else-clause)))`\n",
    "\n",
    "Eva demonstrates the program for Alyssa:\n",
    "\n",
    "`(new-if (= 2 3) 0 5)`\n",
    "\n",
    "5\n",
    "\n",
    "`(new-if (= 1 1) 0 5)`\n",
    "\n",
    "0\n",
    "\n",
    "Delighted, Alyssa uses new-if to rewrite the square-root program:\n",
    "\n",
    "`(define (sqrt-iter guess x)\n",
    "  (new-if (good-enough? guess x)\n",
    "          guess\n",
    "          (sqrt-iter (improve guess x) x)))`\n",
    "\n",
    "What happens when Alyssa attempts to use this to compute square roots? Explain.”"
   ]
  },
  {
   "cell_type": "markdown",
   "metadata": {},
   "source": [
    "#### With applicative ordering, the else clause gets evaluated before the conditional is applied. This leads to a recursive loop."
   ]
  },
  {
   "cell_type": "markdown",
   "metadata": {},
   "source": [
    "### “Exercise 1.7: The good-enough? test used in computing square roots will not be very effective for finding the square roots of very small numbers. Also, in real computers, arithmetic operations are almost always performed with limited precision. This makes our test inadequate for very large numbers. \n",
    "Explain these statements, with examples showing how the test fails for small and large numbers."
   ]
  },
  {
   "cell_type": "code",
   "execution_count": 2,
   "metadata": {},
   "outputs": [],
   "source": [
    "(define (square x)\n",
    "  (* x x))\n",
    "\n",
    "(define (good-enough? guess x)\n",
    "  (< (abs (- (square guess) x)) 0.001))\n",
    "\n",
    "(define (average x y) \n",
    "  (/ (+ x y) 2))\n",
    "\n",
    "(define (improve guess x)\n",
    "  (average guess (/ x guess)))\n",
    "\n",
    "(define (sqrt-iter guess x)\n",
    "  (display guess)(newline)\n",
    "  (if (good-enough? guess x)\n",
    "      guess\n",
    "      (sqrt-iter (improve guess x) x)))"
   ]
  },
  {
   "cell_type": "code",
   "execution_count": 17,
   "metadata": {},
   "outputs": [
    {
     "name": "stdout",
     "output_type": "stream",
     "text": [
      "1.0\n",
      "0.5005\n",
      "0.251249000999001\n",
      "0.12761455816345907\n",
      "0.06772532736082602\n",
      "0.04124542607499115\n"
     ]
    },
    {
     "data": {
      "text/plain": [
       "0.04124542607499115"
      ]
     },
     "execution_count": 17,
     "metadata": {},
     "output_type": "execute_result"
    }
   ],
   "source": [
    "(sqrt-iter 1.0 .001)"
   ]
  },
  {
   "cell_type": "code",
   "execution_count": 18,
   "metadata": {},
   "outputs": [
    {
     "name": "stdout",
     "output_type": "stream",
     "text": [
      "1.0\n",
      "0.50005\n",
      "0.2501249900009999\n",
      "0.12526239505846617\n",
      "0.06303035962394365\n",
      "0.03230844833048122\n"
     ]
    },
    {
     "data": {
      "text/plain": [
       "0.03230844833048122"
      ]
     },
     "execution_count": 18,
     "metadata": {},
     "output_type": "execute_result"
    }
   ],
   "source": [
    "(sqrt-iter 1.0 .0001)"
   ]
  },
  {
   "cell_type": "code",
   "execution_count": 19,
   "metadata": {},
   "outputs": [
    {
     "name": "stdout",
     "output_type": "stream",
     "text": [
      "1.0\n",
      "0.500005\n",
      "0.250012499900001\n",
      "0.1250262489500585\n",
      "0.06255311607712873\n",
      "0.03135649010771716\n"
     ]
    },
    {
     "data": {
      "text/plain": [
       "0.03135649010771716"
      ]
     },
     "execution_count": 19,
     "metadata": {},
     "output_type": "execute_result"
    }
   ],
   "source": [
    "(sqrt-iter 1.0 .00001)"
   ]
  },
  {
   "cell_type": "markdown",
   "metadata": {},
   "source": [
    "#### For very small numbers, the guess will be small, so anything less than the square root of the absolute range in the `good-enough` function will not get any closer than that square-root."
   ]
  },
  {
   "cell_type": "code",
   "execution_count": 3,
   "metadata": {},
   "outputs": [
    {
     "name": "stdout",
     "output_type": "stream",
     "text": [
      "1.0\n",
      "50000000000.5\n",
      "25000000001.25\n",
      "12500000002.625\n",
      "6250000005.3125\n",
      "3125000010.65625\n",
      "1562500021.328125\n",
      "781250042.664062\n",
      "390625085.3320275\n",
      "195312670.6659858\n",
      "97656591.3327692\n",
      "48828807.66459504\n",
      "24415427.817981206\n",
      "12209761.794465834\n",
      "6108975.981219131\n",
      "3062672.6683941423\n",
      "1547661.9443466587\n",
      "806137.7690049252\n",
      "465093.0222149514\n",
      "340051.8866168326\n",
      "317062.32795385586\n",
      "316228.86437127064\n",
      "316227.7660187454\n",
      "316227.7660168379\n"
     ]
    },
    {
     "data": {
      "text/plain": [
       "316227.7660168379"
      ]
     },
     "execution_count": 3,
     "metadata": {},
     "output_type": "execute_result"
    }
   ],
   "source": [
    "(sqrt-iter 1.0 100000000000)"
   ]
  },
  {
   "cell_type": "code",
   "execution_count": 4,
   "metadata": {},
   "outputs": [
    {
     "name": "stdout",
     "output_type": "stream",
     "text": [
      "1.0\n",
      "50000000000000.5\n",
      "25000000000001.25\n",
      "12500000000002.625\n",
      "6250000000005.3125\n",
      "3125000000010.6562\n",
      "1562500000021.3281\n",
      "781250000042.6641\n",
      "390625000085.33203\n",
      "195312500170.66602\n",
      "97656250341.33301\n",
      "48828125682.666504\n",
      "24414063865.333237\n",
      "12207033980.666504\n",
      "6103521086.332335\n",
      "3051768735.158838\n",
      "1525900751.5207784\n",
      "762983143.2912723\n",
      "381557103.8928943\n",
      "190909593.93070027\n",
      "95716701.03717038\n",
      "48380725.39630463\n",
      "25223832.113718767\n",
      "14594168.387693997\n",
      "10723110.170233615\n",
      "10024381.373966798\n",
      "10000029.650278373\n",
      "10000000.000043957\n",
      "10000000.0\n"
     ]
    },
    {
     "data": {
      "text/plain": [
       "10000000.0"
      ]
     },
     "execution_count": 4,
     "metadata": {},
     "output_type": "execute_result"
    }
   ],
   "source": [
    "(sqrt-iter 1.0 100000000000000)"
   ]
  },
  {
   "cell_type": "markdown",
   "metadata": {},
   "source": [
    "Next attempt commented out since it gets caught in an infinite loop"
   ]
  },
  {
   "cell_type": "code",
   "execution_count": 33,
   "metadata": {},
   "outputs": [],
   "source": [
    ";(sqrt-iter 1.0 1000000000000000)"
   ]
  },
  {
   "cell_type": "markdown",
   "metadata": {},
   "source": [
    "#### For very big numbers, the significant digits get truncated, so no further convergance can be made"
   ]
  },
  {
   "cell_type": "markdown",
   "metadata": {},
   "source": [
    "### An alternative strategy for implementing good-enough? is to watch how guess changes from one iteration to the next and to stop when the change is a very small fraction of the guess. Design a square-root procedure that uses this kind of end test. Does this work better for small and large numbers?”"
   ]
  },
  {
   "cell_type": "code",
   "execution_count": 23,
   "metadata": {},
   "outputs": [],
   "source": [
    "(define (square x)\n",
    "  (* x x))\n",
    "\n",
    "(define (good-enough?-2 guess old-guess)\n",
    "  (< (abs (- old-guess guess)) (/ guess 1000)))\n",
    "\n",
    "(define (average x y) \n",
    "  (/ (+ x y) 2))\n",
    "\n",
    "(define (improve guess x)\n",
    "  (average guess (/ x guess)))\n",
    "\n",
    "(define (sqrt-iter-2 guess old-guess x)\n",
    "  (display guess)(newline)\n",
    "  (if (good-enough?-2 guess old-guess)\n",
    "      guess\n",
    "      (sqrt-iter-2 (improve guess x) guess x)))"
   ]
  },
  {
   "cell_type": "code",
   "execution_count": 24,
   "metadata": {},
   "outputs": [
    {
     "name": "stdout",
     "output_type": "stream",
     "text": [
      "1.0\n",
      "0.500005\n",
      "0.250012499900001\n",
      "0.1250262489500585\n",
      "0.06255311607712873\n",
      "0.03135649010771716\n",
      "0.015837701676166237\n",
      "0.008234553210954832\n",
      "0.004724474090502864\n",
      "0.0034205558981478842\n",
      "0.003172028655357483\n",
      "0.0031622926477232706\n",
      "0.0031622776602038957\n"
     ]
    },
    {
     "data": {
      "text/plain": [
       "0.0031622776602038957"
      ]
     },
     "execution_count": 24,
     "metadata": {},
     "output_type": "execute_result"
    }
   ],
   "source": [
    "(sqrt-iter-2 1.0 2.0 .00001)"
   ]
  },
  {
   "cell_type": "code",
   "execution_count": 25,
   "metadata": {},
   "outputs": [
    {
     "name": "stdout",
     "output_type": "stream",
     "text": [
      "1.0\n",
      "0.50000005\n",
      "0.25000012499999\n",
      "0.12500026249989502\n",
      "0.06250053124910751\n",
      "0.03125106561775382\n",
      "0.015627132754319144\n",
      "0.0078167659404311\n",
      "0.003914779477464331\n",
      "0.0019701618502362306\n",
      "0.0010104595507340792\n",
      "0.0005547122113177672\n",
      "0.0003674929351352361\n",
      "0.0003198035049133841\n",
      "0.0003162477562740737\n",
      "0.00031622776664863746\n"
     ]
    },
    {
     "data": {
      "text/plain": [
       "0.00031622776664863746"
      ]
     },
     "execution_count": 25,
     "metadata": {},
     "output_type": "execute_result"
    }
   ],
   "source": [
    "(sqrt-iter-2 1.0 2.0 .0000001)"
   ]
  },
  {
   "cell_type": "code",
   "execution_count": 26,
   "metadata": {},
   "outputs": [
    {
     "name": "stdout",
     "output_type": "stream",
     "text": [
      "1.0\n",
      "500000000000000.5\n",
      "250000000000001.25\n",
      "125000000000002.62\n",
      "62500000000005.31\n",
      "31250000000010.656\n",
      "15625000000021.328\n",
      "7812500000042.664\n",
      "3906250000085.332\n",
      "1953125000170.666\n",
      "976562500341.333\n",
      "488281250682.6665\n",
      "244140626365.33325\n",
      "122070315230.66661\n",
      "61035161711.33321\n",
      "30517589047.665874\n",
      "15258810907.827074\n",
      "7629438221.866625\n",
      "3814784646.558015\n",
      "1907523392.2766902\n",
      "954023816.1217878\n",
      "477536003.99178225\n",
      "239815043.46673402\n",
      "121992461.83041875\n",
      "65094844.81723103\n",
      "40228522.216194235\n",
      "32543253.585447475\n",
      "31635794.320938785\n",
      "31622779.27999515\n"
     ]
    },
    {
     "data": {
      "text/plain": [
       "31622779.27999515"
      ]
     },
     "execution_count": 26,
     "metadata": {},
     "output_type": "execute_result"
    }
   ],
   "source": [
    "(sqrt-iter-2 1.0 2.0 1000000000000000)"
   ]
  },
  {
   "cell_type": "code",
   "execution_count": 27,
   "metadata": {},
   "outputs": [
    {
     "name": "stdout",
     "output_type": "stream",
     "text": [
      "1.0\n",
      "5000000000000000.0\n",
      "2500000000000001.0\n",
      "1250000000000002.5\n",
      "625000000000005.2\n",
      "312500000000010.6\n",
      "156250000000021.3\n",
      "78125000000042.66\n",
      "39062500000085.33\n",
      "19531250000170.664\n",
      "9765625000341.332\n",
      "4882812500682.666\n",
      "2441406251365.333\n",
      "1220703127730.6665\n",
      "610351567961.3333\n",
      "305175792172.66656\n",
      "152587912470.3327\n",
      "76293989003.16167\n",
      "38147060037.543304\n",
      "19073661090.471413\n",
      "9537092686.833813\n",
      "4769070612.202393\n",
      "2385583728.4053674\n",
      "1194887787.2845125\n",
      "601628386.9923497\n",
      "309124971.5580212\n",
      "170737173.88265842\n",
      "114653363.573724\n",
      "100936392.34528725\n",
      "100004343.48109704\n",
      "100000000.09432504\n"
     ]
    },
    {
     "data": {
      "text/plain": [
       "100000000.09432504"
      ]
     },
     "execution_count": 27,
     "metadata": {},
     "output_type": "execute_result"
    }
   ],
   "source": [
    "(sqrt-iter-2 1.0 2.0 10000000000000000)"
   ]
  },
  {
   "cell_type": "code",
   "execution_count": 29,
   "metadata": {},
   "outputs": [
    {
     "name": "stdout",
     "output_type": "stream",
     "text": [
      "1.0\n",
      "5e+16\n",
      "2.5e+16\n",
      "1.2500000000000002e+16\n",
      "6250000000000005.0\n",
      "3125000000000010.5\n",
      "1562500000000021.2\n",
      "781250000000042.6\n",
      "390625000000085.3\n",
      "195312500000170.66\n",
      "97656250000341.33\n",
      "48828125000682.664\n",
      "24414062501365.332\n",
      "12207031252730.666\n",
      "6103515630461.333\n",
      "3051757823422.6665\n",
      "1525878928095.3333\n",
      "762939496815.6661\n",
      "381469813943.82935\n",
      "190735038043.88464\n",
      "95367781165.70213\n",
      "47684414868.92954\n",
      "23843255995.092754\n",
      "11923725026.576736\n",
      "5966055833.738861\n",
      "2991408663.110061\n",
      "1512418864.9508176\n",
      "789269057.132779\n",
      "457984281.7945697\n",
      "338166193.34310144\n",
      "316939390.36460567\n",
      "316228564.9222876\n",
      "316227766.01784706\n"
     ]
    },
    {
     "data": {
      "text/plain": [
       "316227766.01784706"
      ]
     },
     "execution_count": 29,
     "metadata": {},
     "output_type": "execute_result"
    }
   ],
   "source": [
    "(sqrt-iter-2 1.0 2.0 100000000000000000)"
   ]
  },
  {
   "cell_type": "markdown",
   "metadata": {},
   "source": [
    "#### Works well for both"
   ]
  }
 ],
 "metadata": {
  "kernelspec": {
   "display_name": "Calysto Scheme 3",
   "language": "scheme",
   "name": "calysto_scheme"
  },
  "language_info": {
   "codemirror_mode": {
    "name": "scheme"
   },
   "mimetype": "text/x-scheme",
   "name": "scheme",
   "pygments_lexer": "scheme"
  }
 },
 "nbformat": 4,
 "nbformat_minor": 2
}
